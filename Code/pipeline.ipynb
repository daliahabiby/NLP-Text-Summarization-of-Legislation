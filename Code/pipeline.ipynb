{
 "cells": [
  {
   "cell_type": "code",
   "execution_count": 1,
   "metadata": {},
   "outputs": [],
   "source": [
    "import pandas as pd\n",
    "import spacy\n",
    "from sklearn.feature_extraction.text import TfidfVectorizer\n",
    "from sklearn.metrics.pairwise import cosine_similarity\n",
    "\n",
    "\n",
    "# load spacy model\n",
    "#nlp = spacy.load('en_core_web_sm')\n",
    "\n",
    "# define function to preprocess text\n",
    "#def preprocess_text(text):\n",
    "    #doc = nlp(text)\n",
    "    #return ' '.join([token.lemma_ for token in doc if not token.is_stop and not token.is_punct])\n",
    "\n",
    "# read in bill texts from CSV file\n",
    "billsdf = pd.read_csv('../Data/bill_text_df.csv')\n"
   ]
  },
  {
   "cell_type": "code",
   "execution_count": 2,
   "metadata": {},
   "outputs": [],
   "source": [
    "billsdf['Raw Text'] = billsdf['Raw Text'].astype(str)"
   ]
  },
  {
   "cell_type": "code",
   "execution_count": 3,
   "metadata": {},
   "outputs": [],
   "source": [
    "billsdf = billsdf[billsdf['Bill Number'].str.endswith('enr')]"
   ]
  },
  {
   "cell_type": "code",
   "execution_count": 4,
   "metadata": {},
   "outputs": [],
   "source": [
    "from sumy.parsers.plaintext import PlaintextParser\n",
    "from sumy.nlp.tokenizers import Tokenizer\n",
    "from sumy.summarizers.lex_rank import LexRankSummarizer\n",
    "from sumy.utils import get_stop_words\n"
   ]
  },
  {
   "cell_type": "code",
   "execution_count": 5,
   "metadata": {},
   "outputs": [],
   "source": [
    "def summarize_text(text, num_sentences):\n",
    "    parser = PlaintextParser.from_string(text, Tokenizer(\"english\"))\n",
    "    summarizer = LexRankSummarizer()\n",
    "    summarizer.stop_words = get_stop_words(\"english\")\n",
    "    summary = summarizer(parser.document, num_sentences)\n",
    "    summary = [str(sent) for sent in summary]\n",
    "    return ' '.join(summary)\n"
   ]
  },
  {
   "cell_type": "code",
   "execution_count": 6,
   "metadata": {},
   "outputs": [],
   "source": [
    "\n",
    "# apply the summarize function to each row of the 'text' column\n",
    "num_sentences = 5\n",
    "billsdf['summary'] = billsdf['Raw Text'].apply(lambda x: summarize_text(x, num_sentences))\n"
   ]
  },
  {
   "cell_type": "code",
   "execution_count": 7,
   "metadata": {},
   "outputs": [],
   "source": [
    "billsdf.to_csv('../Data/summarized_bills.csv')"
   ]
  },
  {
   "cell_type": "code",
   "execution_count": 17,
   "metadata": {},
   "outputs": [],
   "source": [
    "import pandas as pd\n",
    "\n",
    "# Assuming your dataframe is called df\n",
    "billsdf['length_raw'] = billsdf['Raw Text'].apply(lambda x: len(str(x)))\n",
    "billsdf['length_summary'] = billsdf['summary'].apply(lambda x: len(str(x)))\n"
   ]
  },
  {
   "cell_type": "code",
   "execution_count": 18,
   "metadata": {},
   "outputs": [],
   "source": [
    "billsdf_filtered = billsdf[billsdf['length_summary'] < billsdf['length_raw']]\n"
   ]
  },
  {
   "cell_type": "code",
   "execution_count": 19,
   "metadata": {},
   "outputs": [],
   "source": [
    "billsdf_filtered.to_csv('../Data/shorter_summaries.csv')"
   ]
  },
  {
   "cell_type": "code",
   "execution_count": 9,
   "metadata": {},
   "outputs": [],
   "source": [
    "import textstat\n",
    "import numpy as np"
   ]
  },
  {
   "cell_type": "code",
   "execution_count": 10,
   "metadata": {},
   "outputs": [
    {
     "name": "stdout",
     "output_type": "stream",
     "text": [
      "Readibility score for full bill is  31.06842105263158\n"
     ]
    }
   ],
   "source": [
    "full_text = billsdf['Raw Text']\n",
    "\n",
    "autoreadfull = []\n",
    "\n",
    "for bill in full_text:\n",
    "    a = textstat.automated_readability_index(bill)\n",
    "    autoreadfull.append(a)\n",
    "\n",
    "print(\"Readibility score for full bill is \", np.mean(autoreadfull))"
   ]
  },
  {
   "cell_type": "code",
   "execution_count": 11,
   "metadata": {},
   "outputs": [
    {
     "name": "stdout",
     "output_type": "stream",
     "text": [
      "Readibility score for summarized bill is  31.36776315789474\n"
     ]
    }
   ],
   "source": [
    "summary_text = billsdf['summary']\n",
    "\n",
    "autoreadsum = []\n",
    "\n",
    "for bill in summary_text:\n",
    "    a = textstat.automated_readability_index(bill)\n",
    "    autoreadsum.append(a)\n",
    "\n",
    "print(\"Readibility score for summarized bill is \", np.mean(autoreadsum))"
   ]
  },
  {
   "cell_type": "code",
   "execution_count": 15,
   "metadata": {},
   "outputs": [
    {
     "data": {
      "image/png": "[encoded data removed]",
      "text/plain": [
       "<Figure size 432x288 with 1 Axes>"
      ]
     },
     "metadata": {
      "needs_background": "light"
     },
     "output_type": "display_data"
    }
   ],
   "source": [
    "import matplotlib.pyplot as plt\n",
    "\n",
    "plt.hist(autoreadfull, bins=10)\n",
    "plt.title('Histogram of Full Text Readibility Scores')\n",
    "plt.xlabel('Value')\n",
    "plt.ylabel('Frequency')\n",
    "plt.show()\n"
   ]
  },
  {
   "cell_type": "code",
   "execution_count": 16,
   "metadata": {},
   "outputs": [
    {
     "data": {
      "image/png": "[encoded data removed]",
      "text/plain": [
       "<Figure size 432x288 with 1 Axes>"
      ]
     },
     "metadata": {
      "needs_background": "light"
     },
     "output_type": "display_data"
    }
   ],
   "source": [
    "plt.hist(autoreadsum, bins=10)\n",
    "plt.title('Histogram of Summary Text Readibility Scores')\n",
    "plt.xlabel('Value')\n",
    "plt.ylabel('Frequency')\n",
    "plt.show()"
   ]
  }
 ],
 "metadata": {
  "kernelspec": {
   "display_name": "Python 3",
   "language": "python",
   "name": "python3"
  },
  "language_info": {
   "codemirror_mode": {
    "name": "ipython",
    "version": 3
   },
   "file_extension": ".py",
   "mimetype": "text/x-python",
   "name": "python",
   "nbconvert_exporter": "python",
   "pygments_lexer": "ipython3",
   "version": "3.10.2"
  },
  "orig_nbformat": 4
 },
 "nbformat": 4,
 "nbformat_minor": 2
}
