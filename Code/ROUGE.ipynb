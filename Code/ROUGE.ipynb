{
 "cells": [
  {
   "cell_type": "code",
   "execution_count": 1,
   "metadata": {},
   "outputs": [],
   "source": [
    "import pandas as pd\n",
    "\n",
    "billdf = pd.read_csv(\"../Data/summarized_bills.csv\")"
   ]
  },
  {
   "cell_type": "code",
   "execution_count": 2,
   "metadata": {},
   "outputs": [],
   "source": [
    "from rouge import Rouge\n",
    "\n",
    "def evaluate_rouge(reference_text, generated_summary):\n",
    "    rouge = Rouge()\n",
    "    scores = rouge.get_scores(generated_summary, reference_text)\n",
    "    return scores\n"
   ]
  },
  {
   "cell_type": "code",
   "execution_count": 13,
   "metadata": {},
   "outputs": [],
   "source": [
    "r = evaluate_rouge(list(billdf['Raw Text'])[3], list(billdf['summary'])[3])"
   ]
  },
  {
   "cell_type": "code",
   "execution_count": 14,
   "metadata": {},
   "outputs": [
    {
     "name": "stdout",
     "output_type": "stream",
     "text": [
      "rouge-1:\n",
      "  Precision: 1.0000\n",
      "  Recall: 1.0000\n",
      "  F1-score: 1.0000\n",
      "\n",
      "rouge-2:\n",
      "  Precision: 1.0000\n",
      "  Recall: 1.0000\n",
      "  F1-score: 1.0000\n",
      "\n",
      "rouge-l:\n",
      "  Precision: 1.0000\n",
      "  Recall: 1.0000\n",
      "  F1-score: 1.0000\n",
      "\n"
     ]
    }
   ],
   "source": [
    "# Print ROUGE scores\n",
    "for metric, scores in r[0].items():\n",
    "    print(f\"{metric}:\")\n",
    "    print(f\"  Precision: {scores['p']:.4f}\")\n",
    "    print(f\"  Recall: {scores['r']:.4f}\")\n",
    "    print(f\"  F1-score: {scores['f']:.4f}\")\n",
    "    print()"
   ]
  },
  {
   "cell_type": "code",
   "execution_count": 19,
   "metadata": {},
   "outputs": [
    {
     "ename": "KeyboardInterrupt",
     "evalue": "",
     "output_type": "error",
     "traceback": [
      "\u001b[1;31m---------------------------------------------------------------------------\u001b[0m",
      "\u001b[1;31mKeyboardInterrupt\u001b[0m                         Traceback (most recent call last)",
      "Cell \u001b[1;32mIn[19], line 5\u001b[0m\n\u001b[0;32m      2\u001b[0m \u001b[39m#len(list(billdf['Raw Text']))\u001b[39;00m\n\u001b[0;32m      4\u001b[0m \u001b[39mfor\u001b[39;00m i \u001b[39min\u001b[39;00m \u001b[39mrange\u001b[39m(\u001b[39m0\u001b[39m, \u001b[39mlen\u001b[39m(\u001b[39mlist\u001b[39m(billdf[\u001b[39m'\u001b[39m\u001b[39mRaw Text\u001b[39m\u001b[39m'\u001b[39m]))):\n\u001b[1;32m----> 5\u001b[0m     r \u001b[39m=\u001b[39m evaluate_rouge(\u001b[39mlist\u001b[39;49m(billdf[\u001b[39m'\u001b[39;49m\u001b[39mRaw Text\u001b[39;49m\u001b[39m'\u001b[39;49m])[i], \u001b[39mlist\u001b[39;49m(billdf[\u001b[39m'\u001b[39;49m\u001b[39msummary\u001b[39;49m\u001b[39m'\u001b[39;49m])[i])\n\u001b[0;32m      6\u001b[0m     rouge_scores\u001b[39m.\u001b[39mappend(r)\n",
      "Cell \u001b[1;32mIn[2], line 5\u001b[0m, in \u001b[0;36mevaluate_rouge\u001b[1;34m(reference_text, generated_summary)\u001b[0m\n\u001b[0;32m      3\u001b[0m \u001b[39mdef\u001b[39;00m \u001b[39mevaluate_rouge\u001b[39m(reference_text, generated_summary):\n\u001b[0;32m      4\u001b[0m     rouge \u001b[39m=\u001b[39m Rouge()\n\u001b[1;32m----> 5\u001b[0m     scores \u001b[39m=\u001b[39m rouge\u001b[39m.\u001b[39;49mget_scores(generated_summary, reference_text)\n\u001b[0;32m      6\u001b[0m     \u001b[39mreturn\u001b[39;00m scores\n",
      "File \u001b[1;32mc:\\Users\\habib\\AppData\\Local\\Programs\\Python\\Python311\\Lib\\site-packages\\rouge\\rouge.py:107\u001b[0m, in \u001b[0;36mRouge.get_scores\u001b[1;34m(self, hyps, refs, avg, ignore_empty)\u001b[0m\n\u001b[0;32m    104\u001b[0m \u001b[39massert\u001b[39;00m(\u001b[39mlen\u001b[39m(hyps) \u001b[39m==\u001b[39m \u001b[39mlen\u001b[39m(refs))\n\u001b[0;32m    106\u001b[0m \u001b[39mif\u001b[39;00m \u001b[39mnot\u001b[39;00m avg:\n\u001b[1;32m--> 107\u001b[0m     \u001b[39mreturn\u001b[39;00m \u001b[39mself\u001b[39;49m\u001b[39m.\u001b[39;49m_get_scores(hyps, refs)\n\u001b[0;32m    108\u001b[0m \u001b[39mreturn\u001b[39;00m \u001b[39mself\u001b[39m\u001b[39m.\u001b[39m_get_avg_scores(hyps, refs)\n",
      "File \u001b[1;32mc:\\Users\\habib\\AppData\\Local\\Programs\\Python\\Python311\\Lib\\site-packages\\rouge\\rouge.py:120\u001b[0m, in \u001b[0;36mRouge._get_scores\u001b[1;34m(self, hyps, refs)\u001b[0m\n\u001b[0;32m    118\u001b[0m \u001b[39mfor\u001b[39;00m m \u001b[39min\u001b[39;00m \u001b[39mself\u001b[39m\u001b[39m.\u001b[39mmetrics:\n\u001b[0;32m    119\u001b[0m     fn \u001b[39m=\u001b[39m Rouge\u001b[39m.\u001b[39mAVAILABLE_METRICS[m]\n\u001b[1;32m--> 120\u001b[0m     sc \u001b[39m=\u001b[39m fn(\n\u001b[0;32m    121\u001b[0m         hyp,\n\u001b[0;32m    122\u001b[0m         ref,\n\u001b[0;32m    123\u001b[0m         raw_results\u001b[39m=\u001b[39;49m\u001b[39mself\u001b[39;49m\u001b[39m.\u001b[39;49mraw_results,\n\u001b[0;32m    124\u001b[0m         exclusive\u001b[39m=\u001b[39;49m\u001b[39mself\u001b[39;49m\u001b[39m.\u001b[39;49mexclusive)\n\u001b[0;32m    125\u001b[0m     sen_score[m] \u001b[39m=\u001b[39m {s: sc[s] \u001b[39mfor\u001b[39;00m s \u001b[39min\u001b[39;00m \u001b[39mself\u001b[39m\u001b[39m.\u001b[39mstats}\n\u001b[0;32m    127\u001b[0m \u001b[39mif\u001b[39;00m \u001b[39mself\u001b[39m\u001b[39m.\u001b[39mreturn_lengths:\n",
      "File \u001b[1;32mc:\\Users\\habib\\AppData\\Local\\Programs\\Python\\Python311\\Lib\\site-packages\\rouge\\rouge.py:59\u001b[0m, in \u001b[0;36mRouge.<lambda>\u001b[1;34m(hyp, ref, **k)\u001b[0m\n\u001b[0;32m     50\u001b[0m \u001b[39mclass\u001b[39;00m \u001b[39mRouge\u001b[39;00m:\n\u001b[0;32m     51\u001b[0m     DEFAULT_METRICS \u001b[39m=\u001b[39m [\u001b[39m\"\u001b[39m\u001b[39mrouge-1\u001b[39m\u001b[39m\"\u001b[39m, \u001b[39m\"\u001b[39m\u001b[39mrouge-2\u001b[39m\u001b[39m\"\u001b[39m, \u001b[39m\"\u001b[39m\u001b[39mrouge-l\u001b[39m\u001b[39m\"\u001b[39m]\n\u001b[0;32m     52\u001b[0m     AVAILABLE_METRICS \u001b[39m=\u001b[39m {\n\u001b[0;32m     53\u001b[0m         \u001b[39m\"\u001b[39m\u001b[39mrouge-1\u001b[39m\u001b[39m\"\u001b[39m: \u001b[39mlambda\u001b[39;00m hyp, ref, \u001b[39m*\u001b[39m\u001b[39m*\u001b[39mk: rouge_score\u001b[39m.\u001b[39mrouge_n(hyp, ref, \u001b[39m1\u001b[39m, \u001b[39m*\u001b[39m\u001b[39m*\u001b[39mk),\n\u001b[0;32m     54\u001b[0m         \u001b[39m\"\u001b[39m\u001b[39mrouge-2\u001b[39m\u001b[39m\"\u001b[39m: \u001b[39mlambda\u001b[39;00m hyp, ref, \u001b[39m*\u001b[39m\u001b[39m*\u001b[39mk: rouge_score\u001b[39m.\u001b[39mrouge_n(hyp, ref, \u001b[39m2\u001b[39m, \u001b[39m*\u001b[39m\u001b[39m*\u001b[39mk),\n\u001b[0;32m     55\u001b[0m         \u001b[39m\"\u001b[39m\u001b[39mrouge-3\u001b[39m\u001b[39m\"\u001b[39m: \u001b[39mlambda\u001b[39;00m hyp, ref, \u001b[39m*\u001b[39m\u001b[39m*\u001b[39mk: rouge_score\u001b[39m.\u001b[39mrouge_n(hyp, ref, \u001b[39m3\u001b[39m, \u001b[39m*\u001b[39m\u001b[39m*\u001b[39mk),\n\u001b[0;32m     56\u001b[0m         \u001b[39m\"\u001b[39m\u001b[39mrouge-4\u001b[39m\u001b[39m\"\u001b[39m: \u001b[39mlambda\u001b[39;00m hyp, ref, \u001b[39m*\u001b[39m\u001b[39m*\u001b[39mk: rouge_score\u001b[39m.\u001b[39mrouge_n(hyp, ref, \u001b[39m4\u001b[39m, \u001b[39m*\u001b[39m\u001b[39m*\u001b[39mk),\n\u001b[0;32m     57\u001b[0m         \u001b[39m\"\u001b[39m\u001b[39mrouge-5\u001b[39m\u001b[39m\"\u001b[39m: \u001b[39mlambda\u001b[39;00m hyp, ref, \u001b[39m*\u001b[39m\u001b[39m*\u001b[39mk: rouge_score\u001b[39m.\u001b[39mrouge_n(hyp, ref, \u001b[39m5\u001b[39m, \u001b[39m*\u001b[39m\u001b[39m*\u001b[39mk),\n\u001b[0;32m     58\u001b[0m         \u001b[39m\"\u001b[39m\u001b[39mrouge-l\u001b[39m\u001b[39m\"\u001b[39m: \u001b[39mlambda\u001b[39;00m hyp, ref, \u001b[39m*\u001b[39m\u001b[39m*\u001b[39mk:\n\u001b[1;32m---> 59\u001b[0m             rouge_score\u001b[39m.\u001b[39;49mrouge_l_summary_level(hyp, ref, \u001b[39m*\u001b[39;49m\u001b[39m*\u001b[39;49mk),\n\u001b[0;32m     60\u001b[0m     }\n\u001b[0;32m     61\u001b[0m     DEFAULT_STATS \u001b[39m=\u001b[39m [\u001b[39m\"\u001b[39m\u001b[39mr\u001b[39m\u001b[39m\"\u001b[39m, \u001b[39m\"\u001b[39m\u001b[39mp\u001b[39m\u001b[39m\"\u001b[39m, \u001b[39m\"\u001b[39m\u001b[39mf\u001b[39m\u001b[39m\"\u001b[39m]\n\u001b[0;32m     62\u001b[0m     AVAILABLE_STATS \u001b[39m=\u001b[39m [\u001b[39m\"\u001b[39m\u001b[39mr\u001b[39m\u001b[39m\"\u001b[39m, \u001b[39m\"\u001b[39m\u001b[39mp\u001b[39m\u001b[39m\"\u001b[39m, \u001b[39m\"\u001b[39m\u001b[39mf\u001b[39m\u001b[39m\"\u001b[39m]\n",
      "File \u001b[1;32mc:\\Users\\habib\\AppData\\Local\\Programs\\Python\\Python311\\Lib\\site-packages\\rouge\\rouge_score.py:389\u001b[0m, in \u001b[0;36mrouge_l_summary_level\u001b[1;34m(evaluated_sentences, reference_sentences, raw_results, exclusive, **_)\u001b[0m\n\u001b[0;32m    387\u001b[0m union \u001b[39m=\u001b[39m Ngrams(exclusive\u001b[39m=\u001b[39mexclusive)\n\u001b[0;32m    388\u001b[0m \u001b[39mfor\u001b[39;00m ref_s \u001b[39min\u001b[39;00m reference_sentences:\n\u001b[1;32m--> 389\u001b[0m     lcs_count, union \u001b[39m=\u001b[39m _union_lcs(evaluated_sentences,\n\u001b[0;32m    390\u001b[0m                                   ref_s,\n\u001b[0;32m    391\u001b[0m                                   prev_union\u001b[39m=\u001b[39;49munion,\n\u001b[0;32m    392\u001b[0m                                   exclusive\u001b[39m=\u001b[39;49mexclusive)\n\u001b[0;32m    393\u001b[0m     union_lcs_sum_across_all_references \u001b[39m+\u001b[39m\u001b[39m=\u001b[39m lcs_count\n\u001b[0;32m    395\u001b[0m llcs \u001b[39m=\u001b[39m union_lcs_sum_across_all_references\n",
      "File \u001b[1;32mc:\\Users\\habib\\AppData\\Local\\Programs\\Python\\Python311\\Lib\\site-packages\\rouge\\rouge_score.py:333\u001b[0m, in \u001b[0;36m_union_lcs\u001b[1;34m(evaluated_sentences, reference_sentence, prev_union, exclusive)\u001b[0m\n\u001b[0;32m    331\u001b[0m \u001b[39mfor\u001b[39;00m eval_s \u001b[39min\u001b[39;00m evaluated_sentences:\n\u001b[0;32m    332\u001b[0m     evaluated_words \u001b[39m=\u001b[39m _split_into_words([eval_s])\n\u001b[1;32m--> 333\u001b[0m     lcs \u001b[39m=\u001b[39m _recon_lcs(reference_words, evaluated_words, exclusive\u001b[39m=\u001b[39;49mexclusive)\n\u001b[0;32m    334\u001b[0m     combined_lcs_length \u001b[39m+\u001b[39m\u001b[39m=\u001b[39m \u001b[39mlen\u001b[39m(lcs)\n\u001b[0;32m    335\u001b[0m     lcs_union \u001b[39m=\u001b[39m lcs_union\u001b[39m.\u001b[39munion(lcs)\n",
      "File \u001b[1;32mc:\\Users\\habib\\AppData\\Local\\Programs\\Python\\Python311\\Lib\\site-packages\\rouge\\rouge_score.py:177\u001b[0m, in \u001b[0;36m_recon_lcs\u001b[1;34m(x, y, exclusive)\u001b[0m\n\u001b[0;32m    165\u001b[0m \u001b[39m\u001b[39m\u001b[39m\"\"\"\u001b[39;00m\n\u001b[0;32m    166\u001b[0m \u001b[39mReturns the Longest Subsequence between x and y.\u001b[39;00m\n\u001b[0;32m    167\u001b[0m \u001b[39mSource: http://www.algorithmist.com/index.php/Longest_Common_Subsequence\u001b[39;00m\n\u001b[1;32m   (...)\u001b[0m\n\u001b[0;32m    174\u001b[0m \u001b[39m  sequence: LCS of x and y\u001b[39;00m\n\u001b[0;32m    175\u001b[0m \u001b[39m\"\"\"\u001b[39;00m\n\u001b[0;32m    176\u001b[0m i, j \u001b[39m=\u001b[39m \u001b[39mlen\u001b[39m(x), \u001b[39mlen\u001b[39m(y)\n\u001b[1;32m--> 177\u001b[0m table \u001b[39m=\u001b[39m _lcs(x, y)\n\u001b[0;32m    179\u001b[0m \u001b[39mdef\u001b[39;00m \u001b[39m_recon\u001b[39m(i, j):\n\u001b[0;32m    180\u001b[0m \u001b[39m    \u001b[39m\u001b[39m\"\"\"private recon calculation\"\"\"\u001b[39;00m\n",
      "File \u001b[1;32mc:\\Users\\habib\\AppData\\Local\\Programs\\Python\\Python311\\Lib\\site-packages\\rouge\\rouge_score.py:160\u001b[0m, in \u001b[0;36m_lcs\u001b[1;34m(x, y)\u001b[0m\n\u001b[0;32m    158\u001b[0m             table[i, j] \u001b[39m=\u001b[39m table[i \u001b[39m-\u001b[39m \u001b[39m1\u001b[39m, j \u001b[39m-\u001b[39m \u001b[39m1\u001b[39m] \u001b[39m+\u001b[39m \u001b[39m1\u001b[39m\n\u001b[0;32m    159\u001b[0m         \u001b[39melse\u001b[39;00m:\n\u001b[1;32m--> 160\u001b[0m             table[i, j] \u001b[39m=\u001b[39m \u001b[39mmax\u001b[39m(table[i \u001b[39m-\u001b[39m \u001b[39m1\u001b[39m, j], table[i, j \u001b[39m-\u001b[39m \u001b[39m1\u001b[39m])\n\u001b[0;32m    161\u001b[0m \u001b[39mreturn\u001b[39;00m table\n",
      "\u001b[1;31mKeyboardInterrupt\u001b[0m: "
     ]
    }
   ],
   "source": [
    "rouge_scores = []\n",
    "#len(list(billdf['Raw Text']))\n",
    "\n",
    "for i in range(0, len(list(billdf['Raw Text']))):\n",
    "    r = evaluate_rouge(list(billdf['Raw Text'])[i], list(billdf['summary'])[i])\n",
    "    rouge_scores.append(r)\n"
   ]
  },
  {
   "cell_type": "code",
   "execution_count": null,
   "metadata": {},
   "outputs": [],
   "source": [
    "\n",
    "# Print ROUGE scores\n",
    "for metric, scores in rouge_scores[0].items():\n",
    "    print(f\"{metric}:\")\n",
    "    print(f\"  Precision: {scores['p']:.4f}\")\n",
    "    print(f\"  Recall: {scores['r']:.4f}\")\n",
    "    print(f\"  F1-score: {scores['f']:.4f}\")\n",
    "    print()\n"
   ]
  }
 ],
 "metadata": {
  "kernelspec": {
   "display_name": "Python 3",
   "language": "python",
   "name": "python3"
  },
  "language_info": {
   "codemirror_mode": {
    "name": "ipython",
    "version": 3
   },
   "file_extension": ".py",
   "mimetype": "text/x-python",
   "name": "python",
   "nbconvert_exporter": "python",
   "pygments_lexer": "ipython3",
   "version": "3.11.1"
  },
  "orig_nbformat": 4
 },
 "nbformat": 4,
 "nbformat_minor": 2
}
