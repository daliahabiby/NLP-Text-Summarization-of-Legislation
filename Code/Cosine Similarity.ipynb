{
 "cells": [
  {
   "cell_type": "code",
   "execution_count": 23,
   "metadata": {},
   "outputs": [],
   "source": [
    "import pandas as pd\n",
    "\n",
    "billdf = pd.read_csv(\"../Data/summarized_bills.csv\")"
   ]
  },
  {
   "cell_type": "code",
   "execution_count": 24,
   "metadata": {},
   "outputs": [],
   "source": [
    "shortdf = pd.read_csv(\"../Data/shorter_summaries.csv\")"
   ]
  },
  {
   "cell_type": "code",
   "execution_count": 2,
   "metadata": {},
   "outputs": [
    {
     "data": {
      "text/html": [
       "<div>\n",
       "<style scoped>\n",
       "    .dataframe tbody tr th:only-of-type {\n",
       "        vertical-align: middle;\n",
       "    }\n",
       "\n",
       "    .dataframe tbody tr th {\n",
       "        vertical-align: top;\n",
       "    }\n",
       "\n",
       "    .dataframe thead th {\n",
       "        text-align: right;\n",
       "    }\n",
       "</style>\n",
       "<table border=\"1\" class=\"dataframe\">\n",
       "  <thead>\n",
       "    <tr style=\"text-align: right;\">\n",
       "      <th></th>\n",
       "      <th>Unnamed: 0.1</th>\n",
       "      <th>Unnamed: 0</th>\n",
       "      <th>Bill Number</th>\n",
       "      <th>Raw Text</th>\n",
       "      <th>summary</th>\n",
       "    </tr>\n",
       "  </thead>\n",
       "  <tbody>\n",
       "    <tr>\n",
       "      <th>0</th>\n",
       "      <td>2</td>\n",
       "      <td>2</td>\n",
       "      <td>117hr1057enr</td>\n",
       "      <td>This Act may be cited as the The Congress find...</td>\n",
       "      <td>This Act may be cited as the The Congress find...</td>\n",
       "    </tr>\n",
       "    <tr>\n",
       "      <th>1</th>\n",
       "      <td>9</td>\n",
       "      <td>9</td>\n",
       "      <td>117hr1082enr</td>\n",
       "      <td>This Act may be cited as the Not later than 1 ...</td>\n",
       "      <td>This Act may be cited as the Not later than 1 ...</td>\n",
       "    </tr>\n",
       "    <tr>\n",
       "      <th>2</th>\n",
       "      <td>12</td>\n",
       "      <td>12</td>\n",
       "      <td>117hr1095enr</td>\n",
       "      <td>The facility of the United States Postal Servi...</td>\n",
       "      <td>The facility of the United States Postal Servi...</td>\n",
       "    </tr>\n",
       "    <tr>\n",
       "      <th>3</th>\n",
       "      <td>16</td>\n",
       "      <td>16</td>\n",
       "      <td>117hr1154enr</td>\n",
       "      <td>This Act may be cited as the In this Act:The t...</td>\n",
       "      <td>This Act may be cited as the In this Act:The t...</td>\n",
       "    </tr>\n",
       "    <tr>\n",
       "      <th>4</th>\n",
       "      <td>18</td>\n",
       "      <td>18</td>\n",
       "      <td>117hr1170enr</td>\n",
       "      <td>The facility of the United States Postal Servi...</td>\n",
       "      <td>The facility of the United States Postal Servi...</td>\n",
       "    </tr>\n",
       "    <tr>\n",
       "      <th>...</th>\n",
       "      <td>...</td>\n",
       "      <td>...</td>\n",
       "      <td>...</td>\n",
       "      <td>...</td>\n",
       "      <td>...</td>\n",
       "    </tr>\n",
       "    <tr>\n",
       "      <th>147</th>\n",
       "      <td>3919</td>\n",
       "      <td>3919</td>\n",
       "      <td>117hr8982enr</td>\n",
       "      <td>This Act may be cited as the Subchapter III of...</td>\n",
       "      <td>This Act may be cited as the Subchapter III of...</td>\n",
       "    </tr>\n",
       "    <tr>\n",
       "      <th>148</th>\n",
       "      <td>4148</td>\n",
       "      <td>4148</td>\n",
       "      <td>117hr91enr</td>\n",
       "      <td>The facility of the United States Postal Servi...</td>\n",
       "      <td>The facility of the United States Postal Servi...</td>\n",
       "    </tr>\n",
       "    <tr>\n",
       "      <th>149</th>\n",
       "      <td>4255</td>\n",
       "      <td>4255</td>\n",
       "      <td>117hr92enr</td>\n",
       "      <td>The facility of the United States Postal Servi...</td>\n",
       "      <td>The facility of the United States Postal Servi...</td>\n",
       "    </tr>\n",
       "    <tr>\n",
       "      <th>150</th>\n",
       "      <td>4267</td>\n",
       "      <td>4267</td>\n",
       "      <td>117hr9308enr</td>\n",
       "      <td>The facility of the United States Postal Servi...</td>\n",
       "      <td>The facility of the United States Postal Servi...</td>\n",
       "    </tr>\n",
       "    <tr>\n",
       "      <th>151</th>\n",
       "      <td>4573</td>\n",
       "      <td>4573</td>\n",
       "      <td>117hr960enr</td>\n",
       "      <td>The facility of the United States Postal Servi...</td>\n",
       "      <td>The facility of the United States Postal Servi...</td>\n",
       "    </tr>\n",
       "  </tbody>\n",
       "</table>\n",
       "<p>152 rows × 5 columns</p>\n",
       "</div>"
      ],
      "text/plain": [
       "     Unnamed: 0.1  Unnamed: 0   Bill Number  \\\n",
       "0               2           2  117hr1057enr   \n",
       "1               9           9  117hr1082enr   \n",
       "2              12          12  117hr1095enr   \n",
       "3              16          16  117hr1154enr   \n",
       "4              18          18  117hr1170enr   \n",
       "..            ...         ...           ...   \n",
       "147          3919        3919  117hr8982enr   \n",
       "148          4148        4148    117hr91enr   \n",
       "149          4255        4255    117hr92enr   \n",
       "150          4267        4267  117hr9308enr   \n",
       "151          4573        4573   117hr960enr   \n",
       "\n",
       "                                              Raw Text  \\\n",
       "0    This Act may be cited as the The Congress find...   \n",
       "1    This Act may be cited as the Not later than 1 ...   \n",
       "2    The facility of the United States Postal Servi...   \n",
       "3    This Act may be cited as the In this Act:The t...   \n",
       "4    The facility of the United States Postal Servi...   \n",
       "..                                                 ...   \n",
       "147  This Act may be cited as the Subchapter III of...   \n",
       "148  The facility of the United States Postal Servi...   \n",
       "149  The facility of the United States Postal Servi...   \n",
       "150  The facility of the United States Postal Servi...   \n",
       "151  The facility of the United States Postal Servi...   \n",
       "\n",
       "                                               summary  \n",
       "0    This Act may be cited as the The Congress find...  \n",
       "1    This Act may be cited as the Not later than 1 ...  \n",
       "2    The facility of the United States Postal Servi...  \n",
       "3    This Act may be cited as the In this Act:The t...  \n",
       "4    The facility of the United States Postal Servi...  \n",
       "..                                                 ...  \n",
       "147  This Act may be cited as the Subchapter III of...  \n",
       "148  The facility of the United States Postal Servi...  \n",
       "149  The facility of the United States Postal Servi...  \n",
       "150  The facility of the United States Postal Servi...  \n",
       "151  The facility of the United States Postal Servi...  \n",
       "\n",
       "[152 rows x 5 columns]"
      ]
     },
     "execution_count": 2,
     "metadata": {},
     "output_type": "execute_result"
    }
   ],
   "source": [
    "billdf"
   ]
  },
  {
   "cell_type": "code",
   "execution_count": 3,
   "metadata": {},
   "outputs": [
    {
     "data": {
      "text/plain": [
       "0      This Act may be cited as the The Congress find...\n",
       "1      This Act may be cited as the Not later than 1 ...\n",
       "2      The facility of the United States Postal Servi...\n",
       "3      This Act may be cited as the In this Act:The t...\n",
       "4      The facility of the United States Postal Servi...\n",
       "                             ...                        \n",
       "147    This Act may be cited as the Subchapter III of...\n",
       "148    The facility of the United States Postal Servi...\n",
       "149    The facility of the United States Postal Servi...\n",
       "150    The facility of the United States Postal Servi...\n",
       "151    The facility of the United States Postal Servi...\n",
       "Name: Raw Text, Length: 152, dtype: object"
      ]
     },
     "execution_count": 3,
     "metadata": {},
     "output_type": "execute_result"
    }
   ],
   "source": [
    "billdf['Raw Text']"
   ]
  },
  {
   "cell_type": "code",
   "execution_count": 25,
   "metadata": {},
   "outputs": [],
   "source": [
    "import nltk\n",
    "from nltk.corpus import stopwords\n",
    "from sklearn.feature_extraction.text import CountVectorizer\n",
    "from sklearn.metrics.pairwise import cosine_similarity\n",
    "import matplotlib.pyplot as plt\n",
    "\n",
    "def preprocess_text(text):\n",
    "    # Tokenize the text into sentences\n",
    "    sentences = nltk.sent_tokenize(text)\n",
    "    \n",
    "    # Remove stopwords and punctuation from each sentence\n",
    "    stop_words = set(stopwords.words('english'))\n",
    "    preprocessed_sentences = []\n",
    "    for sentence in sentences:\n",
    "        words = nltk.word_tokenize(sentence)\n",
    "        words = [word.lower() for word in words if word.isalnum()]\n",
    "        words = [word for word in words if word not in stop_words]\n",
    "        preprocessed_sentences.append(' '.join(words))\n",
    "    \n",
    "    return preprocessed_sentences\n",
    "\n",
    "def calculate_similarity(reference_text, generated_summary):\n",
    "    # Preprocess the reference text and generated summary\n",
    "    preprocessed_reference = preprocess_text(reference_text)\n",
    "    preprocessed_summary = preprocess_text(generated_summary)\n",
    "    \n",
    "    # Create a CountVectorizer to convert text into a matrix of token counts\n",
    "    vectorizer = CountVectorizer().fit_transform(preprocessed_reference + preprocessed_summary)\n",
    "    \n",
    "    # Calculate cosine similarity between the reference text and generated summary\n",
    "    similarity_matrix = cosine_similarity(vectorizer[-len(preprocessed_summary):], vectorizer[:-len(preprocessed_summary)])\n",
    "    similarity_score = similarity_matrix.mean()\n",
    "    \n",
    "    return similarity_score\n",
    "\n"
   ]
  },
  {
   "cell_type": "code",
   "execution_count": 5,
   "metadata": {},
   "outputs": [],
   "source": [
    "similarity_scores = []\n",
    "\n",
    "for i in range(0, len(list(billdf['Raw Text']))):\n",
    "    sim = calculate_similarity(list(billdf['Raw Text'])[i], list(billdf['summary'])[i])\n",
    "    similarity_scores.append(sim)"
   ]
  },
  {
   "cell_type": "code",
   "execution_count": 6,
   "metadata": {},
   "outputs": [
    {
     "data": {
      "text/plain": [
       "[0.36589344361522164,\n",
       " 0.999999999999999,\n",
       " 1.0000000000000002,\n",
       " 1.0000000000000016,\n",
       " 0.9999999999999998,\n",
       " 1.0000000000000002,\n",
       " 0.7544590255137171,\n",
       " 1.0,\n",
       " 1.0000000000000002,\n",
       " 0.32737872197485135,\n",
       " 1.0000000000000002,\n",
       " 0.5611436537399401,\n",
       " 1.000000000000001,\n",
       " 0.18386597060337173,\n",
       " 0.9999999999999998,\n",
       " 0.9999999999999998,\n",
       " 1.0000000000000002,\n",
       " 1.0000000000000002,\n",
       " 1.0000000000000002,\n",
       " 1.0000000000000004,\n",
       " 1.0000000000000002,\n",
       " 1.0000000000000002,\n",
       " 0.1834568505273249,\n",
       " 1.0000000000000004,\n",
       " 1.0000000000000002,\n",
       " 0.795354849077357,\n",
       " 1.0000000000000004,\n",
       " 0.19916135359311882,\n",
       " 0.6692280383968086,\n",
       " 0.9999999999999998,\n",
       " 0.37453175544248163,\n",
       " 0.2279430986819985,\n",
       " 0.30228427996136686,\n",
       " 0.16515055426718098,\n",
       " 1.0000000000000013,\n",
       " 1.0000000000000002,\n",
       " 0.9999999999999989,\n",
       " 0.9999999999999993,\n",
       " 1.0000000000000002,\n",
       " 1.0000000000000002,\n",
       " 0.4874565109641088,\n",
       " 1.0000000000000002,\n",
       " 0.9999999999999989,\n",
       " 1.0000000000000004,\n",
       " 0.4331295661913445,\n",
       " 1.0000000000000002,\n",
       " 1.0000000000000002,\n",
       " 1.0000000000000002,\n",
       " 0.13043917025149437,\n",
       " 1.0000000000000002,\n",
       " 0.9999999999999997,\n",
       " 0.1849585239901901,\n",
       " 0.40754719480602597,\n",
       " 0.3253706518676526,\n",
       " 0.3090540968328346,\n",
       " 0.6557828023040895,\n",
       " 0.9999999999999993,\n",
       " 1.0000000000000002,\n",
       " 1.0000000000000002,\n",
       " 0.4690579987566409,\n",
       " 0.7571326819313642,\n",
       " 1.0,\n",
       " 0.9999999999999997,\n",
       " 1.0000000000000002,\n",
       " 0.9999999999999991,\n",
       " 1.0000000000000002,\n",
       " 0.6227136379626923,\n",
       " 1.0000000000000002,\n",
       " 0.20733956885448887,\n",
       " 0.9999999999999998,\n",
       " 1.0000000000000002,\n",
       " 1.0000000000000004,\n",
       " 0.6271926001497787,\n",
       " 1.0000000000000002,\n",
       " 1.0000000000000002,\n",
       " 0.5813755193357006,\n",
       " 1.0000000000000002,\n",
       " 1.0,\n",
       " 0.6416556917024802,\n",
       " 1.0000000000000002,\n",
       " 1.0000000000000002,\n",
       " 1.0000000000000002,\n",
       " 1.0,\n",
       " 1.0000000000000002,\n",
       " 0.17768101320612267,\n",
       " 0.9999999999999999,\n",
       " 0.999999999999999,\n",
       " 1.0,\n",
       " 0.6956378428147082,\n",
       " 1.0000000000000002,\n",
       " 1.0000000000000002,\n",
       " 1.0000000000000002,\n",
       " 1.0000000000000002,\n",
       " 1.0000000000000002,\n",
       " 1.0000000000000002,\n",
       " 1.0000000000000002,\n",
       " 0.9999999999999997,\n",
       " 1.0000000000000002,\n",
       " 0.4370598558289971,\n",
       " 0.6020620726159659,\n",
       " 0.3493810910012993,\n",
       " 0.9999999999999994,\n",
       " 1.0000000000000007,\n",
       " 0.3518378573854038,\n",
       " 0.9999999999999979,\n",
       " 0.9999999999999992,\n",
       " 1.0000000000000002,\n",
       " 0.5862721039923,\n",
       " 0.661614614619033,\n",
       " 0.28389043834314437,\n",
       " 1.0000000000000002,\n",
       " 0.8590710296738113,\n",
       " 0.3101279666041165,\n",
       " 0.3861533518087221,\n",
       " 1.0000000000000002,\n",
       " 0.5458889699576894,\n",
       " 0.9999999999999993,\n",
       " 0.9999999999999996,\n",
       " 1.0000000000000002,\n",
       " 1.0000000000000002,\n",
       " 0.999999999999999,\n",
       " 1.0000000000000002,\n",
       " 1.0000000000000002,\n",
       " 1.0000000000000002,\n",
       " 1.0000000000000018,\n",
       " 1.0000000000000004,\n",
       " 1.0000000000000002,\n",
       " 0.3636486694359792,\n",
       " 1.0000000000000004,\n",
       " 0.9999999999999986,\n",
       " 0.1497822726487661,\n",
       " 0.4175091702292523,\n",
       " 0.9999999999999997,\n",
       " 0.9999999999999988,\n",
       " 0.27367483784058366,\n",
       " 1.0000000000000004,\n",
       " 0.4232829723510917,\n",
       " 1.0000000000000002,\n",
       " 1.0000000000000002,\n",
       " 1.0,\n",
       " 1.0000000000000004,\n",
       " 0.6504939385935586,\n",
       " 1.0000000000000007,\n",
       " 0.2716746178637027,\n",
       " 0.5176133860294021,\n",
       " 0.9999999999999998,\n",
       " 0.9999999999999994,\n",
       " 0.4220757737271226,\n",
       " 1.0,\n",
       " 1.0000000000000002,\n",
       " 1.0000000000000002,\n",
       " 1.0000000000000002]"
      ]
     },
     "execution_count": 6,
     "metadata": {},
     "output_type": "execute_result"
    }
   ],
   "source": [
    "similarity_scores"
   ]
  },
  {
   "cell_type": "code",
   "execution_count": 9,
   "metadata": {},
   "outputs": [
    {
     "data": {
      "text/plain": [
       "152"
      ]
     },
     "execution_count": 9,
     "metadata": {},
     "output_type": "execute_result"
    }
   ],
   "source": [
    "len(list(billdf['Raw Text']))"
   ]
  },
  {
   "cell_type": "code",
   "execution_count": 10,
   "metadata": {},
   "outputs": [
    {
     "data": {
      "text/plain": [
       "152"
      ]
     },
     "execution_count": 10,
     "metadata": {},
     "output_type": "execute_result"
    }
   ],
   "source": [
    "len(similarity_scores)"
   ]
  },
  {
   "cell_type": "code",
   "execution_count": 3,
   "metadata": {},
   "outputs": [
    {
     "ename": "NameError",
     "evalue": "name 'similarity_scores' is not defined",
     "output_type": "error",
     "traceback": [
      "\u001b[1;31m---------------------------------------------------------------------------\u001b[0m",
      "\u001b[1;31mNameError\u001b[0m                                 Traceback (most recent call last)",
      "Cell \u001b[1;32mIn[3], line 2\u001b[0m\n\u001b[0;32m      1\u001b[0m \u001b[39mimport\u001b[39;00m \u001b[39mnumpy\u001b[39;00m \u001b[39mas\u001b[39;00m \u001b[39mnp\u001b[39;00m\n\u001b[1;32m----> 2\u001b[0m np\u001b[39m.\u001b[39mmean(similarity_scores)\n",
      "\u001b[1;31mNameError\u001b[0m: name 'similarity_scores' is not defined"
     ]
    }
   ],
   "source": [
    "import numpy as np\n",
    "np.mean(similarity_scores)"
   ]
  },
  {
   "cell_type": "code",
   "execution_count": 12,
   "metadata": {},
   "outputs": [
    {
     "data": {
      "image/png": "[encoded data removed]",
      "text/plain": [
       "<Figure size 640x480 with 1 Axes>"
      ]
     },
     "metadata": {},
     "output_type": "display_data"
    }
   ],
   "source": [
    "# Plotting the similarity scores\n",
    "x_labels = [f\"{i+1}\" for i in range(len(list(billdf['Raw Text'])))]\n",
    "plt.bar(x_labels, similarity_scores)\n",
    "plt.xlabel(\"Generated Summary\")\n",
    "plt.ylabel(\"Similarity Score\")\n",
    "plt.title(\"Cosine Similarity Scores\")\n",
    "plt.ylim(0, 1)  # Set the y-axis limit from 0 to 1\n",
    "plt.show()\n"
   ]
  },
  {
   "cell_type": "code",
   "execution_count": 13,
   "metadata": {},
   "outputs": [
    {
     "data": {
      "text/plain": [
       "Text(0.5, 1.0, 'Cosine Similarity Scores')"
      ]
     },
     "execution_count": 13,
     "metadata": {},
     "output_type": "execute_result"
    },
    {
     "data": {
      "image/png": "[encoded data removed]",
      "text/plain": [
       "<Figure size 640x480 with 1 Axes>"
      ]
     },
     "metadata": {},
     "output_type": "display_data"
    }
   ],
   "source": [
    "plt.hist(similarity_scores)\n",
    "plt.xticks([0.1,0.2,0.3,0.4, 0.5, 0.6, 0.7, 0.8, 0.9, 1])\n",
    "plt.xlabel(\"Similarity Score\")\n",
    "plt.ylabel(\"Frequency\")\n",
    "plt.title(\"Cosine Similarity Scores\")"
   ]
  },
  {
   "cell_type": "code",
   "execution_count": null,
   "metadata": {},
   "outputs": [],
   "source": [
    "#22 shorter\n",
    "s = billdf.loc[[9, 13, 22, 27, 30, 31, 32, 33, 40, 48, 51, 53, 68, 84, 100, 103, 109, 112, 113, 130, 136, 143], :]"
   ]
  },
  {
   "cell_type": "code",
   "execution_count": 42,
   "metadata": {},
   "outputs": [
    {
     "name": "stdout",
     "output_type": "stream",
     "text": [
      "Readibility score for full bill is  9.894144736842106\n"
     ]
    }
   ],
   "source": [
    "import textstat\n",
    "\n",
    "full_text = billdf['Raw Text']\n",
    "fleschfull = []\n",
    "\n",
    "for bill in full_text:\n",
    "    a = textstat.flesch_reading_ease(bill)\n",
    "    fleschfull.append(a)\n",
    "\n",
    "print(\"Readibility score for full bill is \", np.mean(fleschfull))"
   ]
  },
  {
   "cell_type": "code",
   "execution_count": 5,
   "metadata": {},
   "outputs": [
    {
     "name": "stdout",
     "output_type": "stream",
     "text": [
      "Readibility score for summarized bill is  9.266907894736843\n"
     ]
    }
   ],
   "source": [
    "fleschsum = []\n",
    "\n",
    "summary_text = billdf['summary']\n",
    "for bill in summary_text:\n",
    "    a = textstat.flesch_reading_ease(bill)\n",
    "    fleschsum.append(a)\n",
    "\n",
    "print(\"Readibility score for summarized bill is \", np.mean(fleschsum))"
   ]
  },
  {
   "cell_type": "code",
   "execution_count": 43,
   "metadata": {},
   "outputs": [
    {
     "name": "stdout",
     "output_type": "stream",
     "text": [
      "Readibility score for summarized bill is  12.528318584070798\n"
     ]
    }
   ],
   "source": [
    "fleschsum = []\n",
    "\n",
    "summary_text = shortdf['summary']\n",
    "for bill in summary_text:\n",
    "    a = textstat.flesch_reading_ease(bill)\n",
    "    fleschsum.append(a)\n",
    "\n",
    "print(\"Readibility score for summarized bill is \", np.mean(fleschsum))"
   ]
  },
  {
   "cell_type": "code",
   "execution_count": null,
   "metadata": {},
   "outputs": [],
   "source": [
    "fleschsum = []\n",
    "\n",
    "summary_text = s['summary']\n",
    "for bill in summary_text:\n",
    "    a = textstat.flesch_reading_ease(bill)\n",
    "    fleschsum.append(a)\n",
    "\n",
    "print(\"Readibility score for summarized bill is \", np.mean(fleschsum))"
   ]
  },
  {
   "cell_type": "code",
   "execution_count": 7,
   "metadata": {},
   "outputs": [
    {
     "data": {
      "text/plain": [
       "'This Act may be cited as the Not later than 180 days after the date of enactment of this Act, inclined sleepers for infants, regardless of the date of manufacture, shall be considered a banned hazardous product under section 8 of the Consumer Product Safety Act (In this section, the term Not later than 180 days after the date of enactment of this Act, crib bumpers, regardless of the date of manufacture, shall be considered a banned hazardous product under section 8 of the Consumer Product Safety Act (In this section, the term means any material that is intended to cover the sides of a crib to prevent injury to any crib occupant from impacts against the side of a crib or to prevent partial or complete access to any openings in the sides of a crib to prevent a crib occupant from getting any part of the body entrapped in any opening;includes a padded crib bumper, a supported and unsupported vinyl bumper guard, and vertical crib slat covers; anddoes not include a non-padded mesh crib liner.'"
      ]
     },
     "execution_count": 7,
     "metadata": {},
     "output_type": "execute_result"
    }
   ],
   "source": [
    "list(billdf['Raw Text'])[36]"
   ]
  },
  {
   "cell_type": "code",
   "execution_count": 8,
   "metadata": {},
   "outputs": [
    {
     "data": {
      "text/plain": [
       "'This Act may be cited as the Not later than 180 days after the date of enactment of this Act, inclined sleepers for infants, regardless of the date of manufacture, shall be considered a banned hazardous product under section 8 of the Consumer Product Safety Act (In this section, the term Not later than 180 days after the date of enactment of this Act, crib bumpers, regardless of the date of manufacture, shall be considered a banned hazardous product under section 8 of the Consumer Product Safety Act (In this section, the term means any material that is intended to cover the sides of a crib to prevent injury to any crib occupant from impacts against the side of a crib or to prevent partial or complete access to any openings in the sides of a crib to prevent a crib occupant from getting any part of the body entrapped in any opening;includes a padded crib bumper, a supported and unsupported vinyl bumper guard, and vertical crib slat covers; anddoes not include a non-padded mesh crib liner.'"
      ]
     },
     "execution_count": 8,
     "metadata": {},
     "output_type": "execute_result"
    }
   ],
   "source": [
    "list(billdf['summary'])[36]"
   ]
  },
  {
   "cell_type": "code",
   "execution_count": 3,
   "metadata": {},
   "outputs": [
    {
     "name": "stdout",
     "output_type": "stream",
     "text": [
      "False\n",
      "True\n",
      "True\n",
      "False\n",
      "True\n",
      "False\n",
      "False\n",
      "True\n",
      "True\n",
      "True\n",
      "True\n",
      "False\n",
      "True\n",
      "True\n",
      "False\n",
      "True\n",
      "True\n",
      "True\n",
      "True\n",
      "False\n",
      "True\n",
      "True\n",
      "True\n",
      "True\n",
      "True\n",
      "True\n",
      "True\n",
      "True\n",
      "False\n",
      "False\n",
      "True\n",
      "True\n",
      "True\n",
      "True\n",
      "False\n",
      "True\n",
      "False\n",
      "True\n",
      "True\n",
      "True\n",
      "True\n",
      "True\n",
      "False\n",
      "True\n",
      "False\n",
      "True\n",
      "True\n",
      "True\n",
      "True\n",
      "True\n",
      "False\n",
      "True\n",
      "False\n",
      "True\n",
      "False\n",
      "True\n",
      "True\n",
      "True\n",
      "True\n",
      "False\n",
      "False\n",
      "False\n",
      "True\n",
      "True\n",
      "True\n",
      "True\n",
      "False\n",
      "True\n",
      "True\n",
      "True\n",
      "True\n",
      "True\n",
      "True\n",
      "True\n",
      "True\n",
      "False\n",
      "False\n",
      "True\n",
      "True\n",
      "True\n",
      "True\n",
      "True\n",
      "True\n",
      "True\n",
      "True\n",
      "False\n",
      "True\n",
      "True\n",
      "False\n",
      "True\n",
      "True\n",
      "True\n",
      "True\n",
      "True\n",
      "True\n",
      "False\n",
      "True\n",
      "True\n",
      "False\n",
      "True\n",
      "True\n",
      "False\n",
      "False\n",
      "True\n",
      "True\n",
      "False\n",
      "True\n",
      "False\n",
      "False\n",
      "True\n",
      "True\n",
      "True\n",
      "True\n",
      "True\n",
      "True\n",
      "False\n",
      "False\n",
      "True\n",
      "False\n",
      "True\n",
      "True\n",
      "True\n",
      "True\n",
      "True\n",
      "True\n",
      "True\n",
      "True\n",
      "True\n",
      "True\n",
      "True\n",
      "True\n",
      "True\n",
      "False\n",
      "True\n",
      "True\n",
      "True\n",
      "True\n",
      "True\n",
      "True\n",
      "True\n",
      "True\n",
      "True\n",
      "False\n",
      "True\n",
      "False\n",
      "True\n",
      "False\n",
      "False\n",
      "True\n",
      "True\n",
      "True\n",
      "True\n"
     ]
    }
   ],
   "source": [
    "def check_same_length(str1, str2):\n",
    "    return len(str1) < len(str2)\n",
    "\n",
    "for i in range(0, len(list(billdf['Raw Text']))):\n",
    "    print(check_same_length(list(billdf['summary'])[i], list(billdf['Raw Text'])[i]))\n"
   ]
  },
  {
   "cell_type": "code",
   "execution_count": 5,
   "metadata": {},
   "outputs": [
    {
     "name": "stdout",
     "output_type": "stream",
     "text": [
      "0\n",
      "1\n",
      "1\n",
      "0\n",
      "1\n",
      "0\n",
      "0\n",
      "1\n",
      "1\n",
      "120\n",
      "1\n",
      "0\n",
      "1\n",
      "5409\n",
      "0\n",
      "1\n",
      "1\n",
      "1\n",
      "1\n",
      "0\n",
      "1\n",
      "1\n",
      "1610937\n",
      "1\n",
      "1\n",
      "1\n",
      "1\n",
      "2545394\n",
      "0\n",
      "0\n",
      "16807\n",
      "1107\n",
      "21562\n",
      "2982\n",
      "0\n",
      "1\n",
      "0\n",
      "1\n",
      "1\n",
      "1\n",
      "2721\n",
      "1\n",
      "0\n",
      "1\n",
      "0\n",
      "1\n",
      "1\n",
      "1\n",
      "3668\n",
      "1\n",
      "0\n",
      "812101\n",
      "0\n",
      "1893\n",
      "0\n",
      "1\n",
      "1\n",
      "1\n",
      "1\n",
      "0\n",
      "0\n",
      "0\n",
      "1\n",
      "1\n",
      "1\n",
      "1\n",
      "0\n",
      "1\n",
      "455293\n",
      "2\n",
      "1\n",
      "1\n",
      "1\n",
      "1\n",
      "1\n",
      "0\n",
      "0\n",
      "1\n",
      "1\n",
      "1\n",
      "1\n",
      "1\n",
      "1\n",
      "1\n",
      "283602\n",
      "0\n",
      "1\n",
      "1\n",
      "0\n",
      "1\n",
      "1\n",
      "1\n",
      "1\n",
      "1\n",
      "1\n",
      "0\n",
      "1\n",
      "1\n",
      "0\n",
      "1\n",
      "716\n",
      "0\n",
      "0\n",
      "54573\n",
      "1\n",
      "0\n",
      "1\n",
      "0\n",
      "0\n",
      "5581\n",
      "1\n",
      "1\n",
      "10875\n",
      "372\n",
      "1\n",
      "0\n",
      "0\n",
      "1\n",
      "0\n",
      "1\n",
      "1\n",
      "1\n",
      "1\n",
      "1\n",
      "1\n",
      "1\n",
      "1\n",
      "2\n",
      "1\n",
      "1\n",
      "3244300\n",
      "1\n",
      "0\n",
      "1\n",
      "1\n",
      "1\n",
      "7701\n",
      "1\n",
      "1\n",
      "1\n",
      "1\n",
      "1\n",
      "0\n",
      "1101\n",
      "0\n",
      "1\n",
      "0\n",
      "0\n",
      "1\n",
      "1\n",
      "1\n",
      "1\n"
     ]
    }
   ],
   "source": [
    "def check_same_length(str1, str2):\n",
    "    return len(str2) - len(str1)\n",
    "\n",
    "for i in range(0, len(list(billdf['Raw Text']))):\n",
    "    print(check_same_length(list(billdf['summary'])[i], list(billdf['Raw Text'])[i]))\n"
   ]
  },
  {
   "cell_type": "code",
   "execution_count": 11,
   "metadata": {},
   "outputs": [
    {
     "data": {
      "text/plain": [
       "74739"
      ]
     },
     "execution_count": 11,
     "metadata": {},
     "output_type": "execute_result"
    }
   ],
   "source": [
    "len(list(billdf['summary'])[22])"
   ]
  },
  {
   "cell_type": "code",
   "execution_count": 21,
   "metadata": {},
   "outputs": [
    {
     "data": {
      "text/plain": [
       "'This Act may be known as the All products of the Russian Federation classified under chapter 27 of the Harmonized Tariff Schedule of the United States shall be banned from importation into the United States, in a manner consistent with any implementation actions issued under Executive Order 14066 (87 Fed. A motion to reconsider the vote by which the motion is disposed of shall not be in order. All points of order against the joint resolution and against its consideration are waived. A joint resolution of disapproval introduced in the Senate shall be referred to the Committee on Finance.If the Committee on Finance has not reported such joint resolution of disapproval within 10 days on which the Senate is in session after the date of referral of such joint resolution, that committee shall be discharged from further consideration of such joint resolution and the joint resolution shall be placed on the appropriate calendar.Notwithstanding Rule XXII of the Standing Rules of the Senate, it is in order at any time after the Committee on Finance reports the joint resolution of disapproval to the Senate or has been discharged from its consideration (even though a previous motion to the same effect has been disagreed to) to move to proceed to the consideration of the joint resolution, and all points of order against the joint resolution (and against consideration of the joint resolution) shall be waived. An amendment to, or a motion to postpone, or a motion to proceed to the consideration of other business, or a motion to recommit the joint resolution of disapproval is not in order.The vote on passage shall occur immediately following the conclusion of the debate on the joint resolution of disapproval and a single quorum call at the conclusion of the debate, if requested in accordance with the rules of the Senate.Appeals from the decisions of the Chair relating to the application of the rules of the Senate, as the case may be, to the procedure relating to the joint resolution of disapproval shall be decided without debate.Debate in the Senate of any veto message with respect to the joint resolution of disapproval, including all debatable motions and appeals in connection with such joint resolution, shall be limited to 10 hours, to be equally divided between, and controlled by, the majority leader and the minority leader or their designees.Except as otherwise provided in this subsection, the following procedures shall apply in the Senate to a joint resolution of disapproval:Except as provided in subparagraph (B), a joint resolution of disapproval that has passed the House of Representatives shall, when received in the Senate, be referred to the Committee on Finance for consideration in accordance with this subsection.If a joint resolution of disapproval was introduced in the Senate before receipt of a joint resolution of disapproval that has passed the House of Representatives, the joint resolution from the House of Representatives shall, when received in the Senate, be placed on the calendar.'"
      ]
     },
     "execution_count": 21,
     "metadata": {},
     "output_type": "execute_result"
    }
   ],
   "source": [
    "list(billdf['summary'])[109]"
   ]
  },
  {
   "cell_type": "code",
   "execution_count": 12,
   "metadata": {},
   "outputs": [
    {
     "data": {
      "text/plain": [
       "1685676"
      ]
     },
     "execution_count": 12,
     "metadata": {},
     "output_type": "execute_result"
    }
   ],
   "source": [
    "len(list(billdf['Raw Text'])[22])"
   ]
  },
  {
   "cell_type": "code",
   "execution_count": 22,
   "metadata": {},
   "outputs": [
    {
     "data": {
      "text/plain": [
       "'This Act may be known as the All products of the Russian Federation classified under chapter 27 of the Harmonized Tariff Schedule of the United States shall be banned from importation into the United States, in a manner consistent with any implementation actions issued under Executive Order 14066 (87 Fed. Reg. 13625; relating to prohibiting certain imports and new investments with respect to continued Russian Federation efforts to undermine the sovereignty and territorial integrity of Ukraine).The President is authorized to terminate the prohibition on importation of energy products of the Russian Federation under section 2 if the President submits to Congress a certification under subsection (c). Such termination shall take effect beginning on the date that is 90 calendar days after the date of submission of such certification, unless there is enacted into law during such 90-day period a joint resolution of disapproval.The President shall, not later than 45 calendar days before submitting a certification under subsection (a)—consult with—the Committee on Ways and Means and the Committee on Foreign Affairs of the House of Representatives; and the Committee on Finance and the Committee on Foreign Relations of the Senate; andsubmit to all such committees a report that explains the basis for the determination of the President contained in such certification.A certification under this subsection is a certification in writing that—indicates that the President proposes to terminate under subsection (a) the prohibition under section 2; andcontains a determination of the President that the Russian Federation—has reached an agreement to withdraw Russian forces and for the cessation of military hostilities that is accepted by the free and independent government of Ukraine;poses no immediate military threat of aggression to any North Atlantic Treaty Organization member; andrecognizes the right of the people of Ukraine to independently and freely choose their own government. For purposes of this section, the term that does not have a preamble;the title of which is as follows: the matter after the resolving clause of which is as follows: During a period of 5 legislative days beginning on the date that a certification under subsection (c) is submitted to Congress, a joint resolution of disapproval may be introduced in the House of Representatives by the majority leader or the minority leader.During a period of 5 days on which the Senate is in session beginning on the date that a certification under subsection (c) is submitted to Congress, a joint resolution of disapproval may be introduced in the Senate by the majority leader (or the majority leader’s designee) or the minority leader (or the minority leader’s designee). If a committee of the House to which a joint resolution of disapproval has been referred has not reported such joint resolution within 10 legislative days after the date of referral, that committee shall be discharged from further consideration thereof. Beginning on the third legislative day after each committee to which a joint resolution of disapproval has been referred reports it to the House or has been discharged from further consideration thereof, it shall be in order to move to proceed to consider the joint resolution in the House. All points of order against the motion are waived. Such a motion shall not be in order after the House has disposed of a motion to proceed on a joint resolution with regard to the same certification. The previous question shall be considered as ordered on the motion to its adoption without intervening motion. The motion shall not be debatable. A motion to reconsider the vote by which the motion is disposed of shall not be in order. The joint resolution shall be considered as read. All points of order against the joint resolution and against its consideration are waived. The previous question shall be considered as ordered on the joint resolution to final passage without intervening motion except two hours of debate equally divided and controlled by the sponsor of the joint resolution (or a designee) and an opponent. A motion to reconsider the vote on passage of the joint resolution shall not be in order. A joint resolution of disapproval introduced in the Senate shall be referred to the Committee on Finance.If the Committee on Finance has not reported such joint resolution of disapproval within 10 days on which the Senate is in session after the date of referral of such joint resolution, that committee shall be discharged from further consideration of such joint resolution and the joint resolution shall be placed on the appropriate calendar.Notwithstanding Rule XXII of the Standing Rules of the Senate, it is in order at any time after the Committee on Finance reports the joint resolution of disapproval to the Senate or has been discharged from its consideration (even though a previous motion to the same effect has been disagreed to) to move to proceed to the consideration of the joint resolution, and all points of order against the joint resolution (and against consideration of the joint resolution) shall be waived. The motion to proceed is not debatable. The motion is not subject to a motion to postpone. A motion to reconsider the vote by which the motion is agreed to or disagreed to shall not be in order. If a motion to proceed to the consideration of the joint resolution of disapproval is agreed to, the joint resolution shall remain the unfinished business until disposed of.Debate on the joint resolution of disapproval, and on all debatable motions and appeals in connection therewith, shall be limited to not more than 10 hours, which shall be divided equally between the majority and minority leaders or their designees. A motion to further limit debate is in order and not debatable. An amendment to, or a motion to postpone, or a motion to proceed to the consideration of other business, or a motion to recommit the joint resolution of disapproval is not in order.The vote on passage shall occur immediately following the conclusion of the debate on the joint resolution of disapproval and a single quorum call at the conclusion of the debate, if requested in accordance with the rules of the Senate.Appeals from the decisions of the Chair relating to the application of the rules of the Senate, as the case may be, to the procedure relating to the joint resolution of disapproval shall be decided without debate.Debate in the Senate of any veto message with respect to the joint resolution of disapproval, including all debatable motions and appeals in connection with such joint resolution, shall be limited to 10 hours, to be equally divided between, and controlled by, the majority leader and the minority leader or their designees.Except as otherwise provided in this subsection, the following procedures shall apply in the Senate to a joint resolution of disapproval:Except as provided in subparagraph (B), a joint resolution of disapproval that has passed the House of Representatives shall, when received in the Senate, be referred to the Committee on Finance for consideration in accordance with this subsection.If a joint resolution of disapproval was introduced in the Senate before receipt of a joint resolution of disapproval that has passed the House of Representatives, the joint resolution from the House of Representatives shall, when received in the Senate, be placed on the calendar. If this subparagraph applies, the procedures in the Senate with respect to a joint resolution of disapproval introduced in the Senate that contains the identical matter as the joint resolution of disapproval that passed the House of Representatives shall be the same as if no joint resolution of disapproval had been received from the House of Representatives, except that the vote on passage in the Senate shall be on the joint resolution of disapproval that passed the House of Representatives.This subsection is enacted by Congress—as an exercise of the rulemaking power of the Senate and the House of Representatives, respectively, and as such is deemed a part of the rules of each House, respectively, but applicable only with respect to the procedure to be followed in that House in the case of a joint resolution of disapproval, and supersedes other rules only to the extent that it is inconsistent with such rules; andwith full recognition of the constitutional right of either House to change the rules (so far as relating to the procedure of that House) at any time, in the same manner, and to the same extent as in the case of any other rule of that House.'"
      ]
     },
     "execution_count": 22,
     "metadata": {},
     "output_type": "execute_result"
    }
   ],
   "source": [
    "list(billdf['Raw Text'])[109]"
   ]
  },
  {
   "cell_type": "code",
   "execution_count": 35,
   "metadata": {},
   "outputs": [],
   "source": [
    "#22 shorter\n",
    "s = billdf.loc[[9, 13, 22, 27, 30, 31, 32, 33, 40, 48, 51, 53, 68, 84, 100, 103, 109, 112, 113, 130, 136, 143], :]"
   ]
  },
  {
   "cell_type": "code",
   "execution_count": 26,
   "metadata": {},
   "outputs": [],
   "source": [
    "similarity_scores2 = []\n",
    "\n",
    "for i in range(0, len(list(shortdf['Raw Text']))):\n",
    "    sim = calculate_similarity(list(shortdf['Raw Text'])[i], list(shortdf['summary'])[i])\n",
    "    similarity_scores2.append(sim)"
   ]
  },
  {
   "cell_type": "code",
   "execution_count": 27,
   "metadata": {},
   "outputs": [
    {
     "data": {
      "text/plain": [
       "[0.999999999999999,\n",
       " 1.0000000000000002,\n",
       " 0.9999999999999998,\n",
       " 1.0,\n",
       " 1.0000000000000002,\n",
       " 0.32737872197485135,\n",
       " 1.0000000000000002,\n",
       " 1.000000000000001,\n",
       " 0.18386597060337173,\n",
       " 0.9999999999999998,\n",
       " 1.0000000000000002,\n",
       " 1.0000000000000002,\n",
       " 1.0000000000000002,\n",
       " 1.0000000000000002,\n",
       " 1.0000000000000002,\n",
       " 0.1834568505273249,\n",
       " 1.0000000000000004,\n",
       " 1.0000000000000002,\n",
       " 0.795354849077357,\n",
       " 1.0000000000000004,\n",
       " 0.19916135359311882,\n",
       " 0.37453175544248163,\n",
       " 0.2279430986819985,\n",
       " 0.30228427996136686,\n",
       " 0.16515055426718098,\n",
       " 1.0000000000000002,\n",
       " 0.9999999999999993,\n",
       " 1.0000000000000002,\n",
       " 1.0000000000000002,\n",
       " 0.4874565109641088,\n",
       " 1.0000000000000002,\n",
       " 1.0000000000000004,\n",
       " 1.0000000000000002,\n",
       " 1.0000000000000002,\n",
       " 1.0000000000000002,\n",
       " 0.13043917025149437,\n",
       " 1.0000000000000002,\n",
       " 0.1849585239901901,\n",
       " 0.3253706518676526,\n",
       " 0.6557828023040895,\n",
       " 0.9999999999999993,\n",
       " 1.0000000000000002,\n",
       " 1.0000000000000002,\n",
       " 0.9999999999999997,\n",
       " 1.0000000000000002,\n",
       " 0.9999999999999991,\n",
       " 1.0000000000000002,\n",
       " 1.0000000000000002,\n",
       " 0.20733956885448887,\n",
       " 0.9999999999999998,\n",
       " 1.0000000000000002,\n",
       " 1.0000000000000004,\n",
       " 0.6271926001497787,\n",
       " 1.0000000000000002,\n",
       " 1.0000000000000002,\n",
       " 1.0,\n",
       " 0.6416556917024802,\n",
       " 1.0000000000000002,\n",
       " 1.0000000000000002,\n",
       " 1.0000000000000002,\n",
       " 1.0,\n",
       " 1.0000000000000002,\n",
       " 0.17768101320612267,\n",
       " 0.999999999999999,\n",
       " 1.0,\n",
       " 1.0000000000000002,\n",
       " 1.0000000000000002,\n",
       " 1.0000000000000002,\n",
       " 1.0000000000000002,\n",
       " 1.0000000000000002,\n",
       " 1.0000000000000002,\n",
       " 0.9999999999999997,\n",
       " 1.0000000000000002,\n",
       " 0.6020620726159659,\n",
       " 0.3493810910012993,\n",
       " 0.3518378573854038,\n",
       " 0.9999999999999979,\n",
       " 1.0000000000000002,\n",
       " 0.28389043834314437,\n",
       " 1.0000000000000002,\n",
       " 0.8590710296738113,\n",
       " 0.3101279666041165,\n",
       " 0.3861533518087221,\n",
       " 1.0000000000000002,\n",
       " 0.9999999999999996,\n",
       " 1.0000000000000002,\n",
       " 0.999999999999999,\n",
       " 1.0000000000000002,\n",
       " 1.0000000000000002,\n",
       " 1.0000000000000002,\n",
       " 1.0000000000000018,\n",
       " 1.0000000000000004,\n",
       " 1.0000000000000002,\n",
       " 0.3636486694359792,\n",
       " 1.0000000000000004,\n",
       " 0.9999999999999986,\n",
       " 0.1497822726487661,\n",
       " 0.4175091702292523,\n",
       " 0.9999999999999988,\n",
       " 0.27367483784058366,\n",
       " 1.0000000000000004,\n",
       " 0.4232829723510917,\n",
       " 1.0000000000000002,\n",
       " 1.0000000000000002,\n",
       " 1.0,\n",
       " 1.0000000000000004,\n",
       " 0.6504939385935586,\n",
       " 0.2716746178637027,\n",
       " 0.9999999999999998,\n",
       " 1.0,\n",
       " 1.0000000000000002,\n",
       " 1.0000000000000002,\n",
       " 1.0000000000000002]"
      ]
     },
     "execution_count": 27,
     "metadata": {},
     "output_type": "execute_result"
    }
   ],
   "source": [
    "similarity_scores2"
   ]
  },
  {
   "cell_type": "code",
   "execution_count": 28,
   "metadata": {},
   "outputs": [
    {
     "data": {
      "text/plain": [
       "0.8220318075558838"
      ]
     },
     "execution_count": 28,
     "metadata": {},
     "output_type": "execute_result"
    }
   ],
   "source": [
    "import numpy as np\n",
    "np.mean(similarity_scores2)"
   ]
  },
  {
   "cell_type": "code",
   "execution_count": 30,
   "metadata": {},
   "outputs": [
    {
     "data": {
      "text/plain": [
       "Text(0.5, 1.0, 'Cosine Similarity Scores')"
      ]
     },
     "execution_count": 30,
     "metadata": {},
     "output_type": "execute_result"
    },
    {
     "data": {
      "image/png": "[encoded data removed]",
      "text/plain": [
       "<Figure size 640x480 with 1 Axes>"
      ]
     },
     "metadata": {},
     "output_type": "display_data"
    }
   ],
   "source": [
    "plt.hist(similarity_scores2)\n",
    "plt.xticks([0.1,0.2,0.3,0.4, 0.5, 0.6, 0.7, 0.8, 0.9, 1])\n",
    "plt.xlabel(\"Similarity Score\")\n",
    "plt.ylabel(\"Frequency\")\n",
    "plt.title(\"Cosine Similarity Scores\")"
   ]
  },
  {
   "cell_type": "code",
   "execution_count": 36,
   "metadata": {},
   "outputs": [],
   "source": [
    "similarity_scores3 = []\n",
    "\n",
    "for i in range(0, len(list(s['Raw Text']))):\n",
    "    sim = calculate_similarity(list(s['Raw Text'])[i], list(s['summary'])[i])\n",
    "    similarity_scores3.append(sim)"
   ]
  },
  {
   "cell_type": "code",
   "execution_count": 37,
   "metadata": {},
   "outputs": [
    {
     "data": {
      "text/plain": [
       "[0.32737872197485135,\n",
       " 0.18386597060337173,\n",
       " 0.1834568505273249,\n",
       " 0.19916135359311882,\n",
       " 0.37453175544248163,\n",
       " 0.2279430986819985,\n",
       " 0.30228427996136686,\n",
       " 0.16515055426718098,\n",
       " 0.4874565109641088,\n",
       " 0.13043917025149437,\n",
       " 0.1849585239901901,\n",
       " 0.3253706518676526,\n",
       " 0.20733956885448887,\n",
       " 0.17768101320612267,\n",
       " 0.3493810910012993,\n",
       " 0.3518378573854038,\n",
       " 0.28389043834314437,\n",
       " 0.3101279666041165,\n",
       " 0.3861533518087221,\n",
       " 0.1497822726487661,\n",
       " 0.4232829723510917,\n",
       " 0.2716746178637027]"
      ]
     },
     "execution_count": 37,
     "metadata": {},
     "output_type": "execute_result"
    }
   ],
   "source": [
    "similarity_scores3"
   ]
  },
  {
   "cell_type": "code",
   "execution_count": 38,
   "metadata": {},
   "outputs": [
    {
     "data": {
      "text/plain": [
       "0.2728703905541817"
      ]
     },
     "execution_count": 38,
     "metadata": {},
     "output_type": "execute_result"
    }
   ],
   "source": [
    "np.mean(similarity_scores3)"
   ]
  },
  {
   "cell_type": "code",
   "execution_count": 41,
   "metadata": {},
   "outputs": [
    {
     "data": {
      "text/plain": [
       "Text(0.5, 1.0, 'Cosine Similarity Scores For Substantially Shorter Summaries')"
      ]
     },
     "execution_count": 41,
     "metadata": {},
     "output_type": "execute_result"
    },
    {
     "data": {
      "image/png": "[encoded data removed]",
      "text/plain": [
       "<Figure size 640x480 with 1 Axes>"
      ]
     },
     "metadata": {},
     "output_type": "display_data"
    }
   ],
   "source": [
    "plt.hist(similarity_scores3)\n",
    "plt.xticks([0.1,0.2,0.3,0.4, 0.5, 0.6, 0.7, 0.8, 0.9, 1])\n",
    "plt.xlabel(\"Similarity Score\")\n",
    "plt.ylabel(\"Frequency\")\n",
    "plt.title(\"Cosine Similarity Scores For Substantially Shorter Summaries\")"
   ]
  }
 ],
 "metadata": {
  "kernelspec": {
   "display_name": "Python 3",
   "language": "python",
   "name": "python3"
  },
  "language_info": {
   "codemirror_mode": {
    "name": "ipython",
    "version": 3
   },
   "file_extension": ".py",
   "mimetype": "text/x-python",
   "name": "python",
   "nbconvert_exporter": "python",
   "pygments_lexer": "ipython3",
   "version": "3.11.1"
  },
  "orig_nbformat": 4
 },
 "nbformat": 4,
 "nbformat_minor": 2
}
