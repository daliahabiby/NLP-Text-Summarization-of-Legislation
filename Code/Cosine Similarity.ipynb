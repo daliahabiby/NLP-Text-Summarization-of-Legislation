{
 "cells": [
  {
   "cell_type": "code",
   "execution_count": 2,
   "metadata": {},
   "outputs": [],
   "source": [
    "import pandas as pd\n",
    "\n",
    "billdf = pd.read_csv(\"../Data/summarized_bills.csv\")"
   ]
  },
  {
   "cell_type": "code",
   "execution_count": 2,
   "metadata": {},
   "outputs": [
    {
     "data": {
      "text/html": [
       "<div>\n",
       "<style scoped>\n",
       "    .dataframe tbody tr th:only-of-type {\n",
       "        vertical-align: middle;\n",
       "    }\n",
       "\n",
       "    .dataframe tbody tr th {\n",
       "        vertical-align: top;\n",
       "    }\n",
       "\n",
       "    .dataframe thead th {\n",
       "        text-align: right;\n",
       "    }\n",
       "</style>\n",
       "<table border=\"1\" class=\"dataframe\">\n",
       "  <thead>\n",
       "    <tr style=\"text-align: right;\">\n",
       "      <th></th>\n",
       "      <th>Unnamed: 0.1</th>\n",
       "      <th>Unnamed: 0</th>\n",
       "      <th>Bill Number</th>\n",
       "      <th>Raw Text</th>\n",
       "      <th>summary</th>\n",
       "    </tr>\n",
       "  </thead>\n",
       "  <tbody>\n",
       "    <tr>\n",
       "      <th>0</th>\n",
       "      <td>2</td>\n",
       "      <td>2</td>\n",
       "      <td>117hr1057enr</td>\n",
       "      <td>This Act may be cited as the The Congress find...</td>\n",
       "      <td>This Act may be cited as the The Congress find...</td>\n",
       "    </tr>\n",
       "    <tr>\n",
       "      <th>1</th>\n",
       "      <td>9</td>\n",
       "      <td>9</td>\n",
       "      <td>117hr1082enr</td>\n",
       "      <td>This Act may be cited as the Not later than 1 ...</td>\n",
       "      <td>This Act may be cited as the Not later than 1 ...</td>\n",
       "    </tr>\n",
       "    <tr>\n",
       "      <th>2</th>\n",
       "      <td>12</td>\n",
       "      <td>12</td>\n",
       "      <td>117hr1095enr</td>\n",
       "      <td>The facility of the United States Postal Servi...</td>\n",
       "      <td>The facility of the United States Postal Servi...</td>\n",
       "    </tr>\n",
       "    <tr>\n",
       "      <th>3</th>\n",
       "      <td>16</td>\n",
       "      <td>16</td>\n",
       "      <td>117hr1154enr</td>\n",
       "      <td>This Act may be cited as the In this Act:The t...</td>\n",
       "      <td>This Act may be cited as the In this Act:The t...</td>\n",
       "    </tr>\n",
       "    <tr>\n",
       "      <th>4</th>\n",
       "      <td>18</td>\n",
       "      <td>18</td>\n",
       "      <td>117hr1170enr</td>\n",
       "      <td>The facility of the United States Postal Servi...</td>\n",
       "      <td>The facility of the United States Postal Servi...</td>\n",
       "    </tr>\n",
       "    <tr>\n",
       "      <th>...</th>\n",
       "      <td>...</td>\n",
       "      <td>...</td>\n",
       "      <td>...</td>\n",
       "      <td>...</td>\n",
       "      <td>...</td>\n",
       "    </tr>\n",
       "    <tr>\n",
       "      <th>147</th>\n",
       "      <td>3919</td>\n",
       "      <td>3919</td>\n",
       "      <td>117hr8982enr</td>\n",
       "      <td>This Act may be cited as the Subchapter III of...</td>\n",
       "      <td>This Act may be cited as the Subchapter III of...</td>\n",
       "    </tr>\n",
       "    <tr>\n",
       "      <th>148</th>\n",
       "      <td>4148</td>\n",
       "      <td>4148</td>\n",
       "      <td>117hr91enr</td>\n",
       "      <td>The facility of the United States Postal Servi...</td>\n",
       "      <td>The facility of the United States Postal Servi...</td>\n",
       "    </tr>\n",
       "    <tr>\n",
       "      <th>149</th>\n",
       "      <td>4255</td>\n",
       "      <td>4255</td>\n",
       "      <td>117hr92enr</td>\n",
       "      <td>The facility of the United States Postal Servi...</td>\n",
       "      <td>The facility of the United States Postal Servi...</td>\n",
       "    </tr>\n",
       "    <tr>\n",
       "      <th>150</th>\n",
       "      <td>4267</td>\n",
       "      <td>4267</td>\n",
       "      <td>117hr9308enr</td>\n",
       "      <td>The facility of the United States Postal Servi...</td>\n",
       "      <td>The facility of the United States Postal Servi...</td>\n",
       "    </tr>\n",
       "    <tr>\n",
       "      <th>151</th>\n",
       "      <td>4573</td>\n",
       "      <td>4573</td>\n",
       "      <td>117hr960enr</td>\n",
       "      <td>The facility of the United States Postal Servi...</td>\n",
       "      <td>The facility of the United States Postal Servi...</td>\n",
       "    </tr>\n",
       "  </tbody>\n",
       "</table>\n",
       "<p>152 rows × 5 columns</p>\n",
       "</div>"
      ],
      "text/plain": [
       "     Unnamed: 0.1  Unnamed: 0   Bill Number  \\\n",
       "0               2           2  117hr1057enr   \n",
       "1               9           9  117hr1082enr   \n",
       "2              12          12  117hr1095enr   \n",
       "3              16          16  117hr1154enr   \n",
       "4              18          18  117hr1170enr   \n",
       "..            ...         ...           ...   \n",
       "147          3919        3919  117hr8982enr   \n",
       "148          4148        4148    117hr91enr   \n",
       "149          4255        4255    117hr92enr   \n",
       "150          4267        4267  117hr9308enr   \n",
       "151          4573        4573   117hr960enr   \n",
       "\n",
       "                                              Raw Text  \\\n",
       "0    This Act may be cited as the The Congress find...   \n",
       "1    This Act may be cited as the Not later than 1 ...   \n",
       "2    The facility of the United States Postal Servi...   \n",
       "3    This Act may be cited as the In this Act:The t...   \n",
       "4    The facility of the United States Postal Servi...   \n",
       "..                                                 ...   \n",
       "147  This Act may be cited as the Subchapter III of...   \n",
       "148  The facility of the United States Postal Servi...   \n",
       "149  The facility of the United States Postal Servi...   \n",
       "150  The facility of the United States Postal Servi...   \n",
       "151  The facility of the United States Postal Servi...   \n",
       "\n",
       "                                               summary  \n",
       "0    This Act may be cited as the The Congress find...  \n",
       "1    This Act may be cited as the Not later than 1 ...  \n",
       "2    The facility of the United States Postal Servi...  \n",
       "3    This Act may be cited as the In this Act:The t...  \n",
       "4    The facility of the United States Postal Servi...  \n",
       "..                                                 ...  \n",
       "147  This Act may be cited as the Subchapter III of...  \n",
       "148  The facility of the United States Postal Servi...  \n",
       "149  The facility of the United States Postal Servi...  \n",
       "150  The facility of the United States Postal Servi...  \n",
       "151  The facility of the United States Postal Servi...  \n",
       "\n",
       "[152 rows x 5 columns]"
      ]
     },
     "execution_count": 2,
     "metadata": {},
     "output_type": "execute_result"
    }
   ],
   "source": [
    "billdf"
   ]
  },
  {
   "cell_type": "code",
   "execution_count": 3,
   "metadata": {},
   "outputs": [
    {
     "data": {
      "text/plain": [
       "0      This Act may be cited as the The Congress find...\n",
       "1      This Act may be cited as the Not later than 1 ...\n",
       "2      The facility of the United States Postal Servi...\n",
       "3      This Act may be cited as the In this Act:The t...\n",
       "4      The facility of the United States Postal Servi...\n",
       "                             ...                        \n",
       "147    This Act may be cited as the Subchapter III of...\n",
       "148    The facility of the United States Postal Servi...\n",
       "149    The facility of the United States Postal Servi...\n",
       "150    The facility of the United States Postal Servi...\n",
       "151    The facility of the United States Postal Servi...\n",
       "Name: Raw Text, Length: 152, dtype: object"
      ]
     },
     "execution_count": 3,
     "metadata": {},
     "output_type": "execute_result"
    }
   ],
   "source": [
    "billdf['Raw Text']"
   ]
  },
  {
   "cell_type": "code",
   "execution_count": 4,
   "metadata": {},
   "outputs": [],
   "source": [
    "import nltk\n",
    "from nltk.corpus import stopwords\n",
    "from sklearn.feature_extraction.text import CountVectorizer\n",
    "from sklearn.metrics.pairwise import cosine_similarity\n",
    "import matplotlib.pyplot as plt\n",
    "\n",
    "def preprocess_text(text):\n",
    "    # Tokenize the text into sentences\n",
    "    sentences = nltk.sent_tokenize(text)\n",
    "    \n",
    "    # Remove stopwords and punctuation from each sentence\n",
    "    stop_words = set(stopwords.words('english'))\n",
    "    preprocessed_sentences = []\n",
    "    for sentence in sentences:\n",
    "        words = nltk.word_tokenize(sentence)\n",
    "        words = [word.lower() for word in words if word.isalnum()]\n",
    "        words = [word for word in words if word not in stop_words]\n",
    "        preprocessed_sentences.append(' '.join(words))\n",
    "    \n",
    "    return preprocessed_sentences\n",
    "\n",
    "def calculate_similarity(reference_text, generated_summary):\n",
    "    # Preprocess the reference text and generated summary\n",
    "    preprocessed_reference = preprocess_text(reference_text)\n",
    "    preprocessed_summary = preprocess_text(generated_summary)\n",
    "    \n",
    "    # Create a CountVectorizer to convert text into a matrix of token counts\n",
    "    vectorizer = CountVectorizer().fit_transform(preprocessed_reference + preprocessed_summary)\n",
    "    \n",
    "    # Calculate cosine similarity between the reference text and generated summary\n",
    "    similarity_matrix = cosine_similarity(vectorizer[-len(preprocessed_summary):], vectorizer[:-len(preprocessed_summary)])\n",
    "    similarity_score = similarity_matrix.mean()\n",
    "    \n",
    "    return similarity_score\n",
    "\n"
   ]
  },
  {
   "cell_type": "code",
   "execution_count": 5,
   "metadata": {},
   "outputs": [],
   "source": [
    "similarity_scores = []\n",
    "\n",
    "for i in range(0, len(list(billdf['Raw Text']))):\n",
    "    sim = calculate_similarity(list(billdf['Raw Text'])[i], list(billdf['summary'])[i])\n",
    "    similarity_scores.append(sim)"
   ]
  },
  {
   "cell_type": "code",
   "execution_count": 6,
   "metadata": {},
   "outputs": [
    {
     "data": {
      "text/plain": [
       "[0.36589344361522164,\n",
       " 0.999999999999999,\n",
       " 1.0000000000000002,\n",
       " 1.0000000000000016,\n",
       " 0.9999999999999998,\n",
       " 1.0000000000000002,\n",
       " 0.7544590255137171,\n",
       " 1.0,\n",
       " 1.0000000000000002,\n",
       " 0.32737872197485135,\n",
       " 1.0000000000000002,\n",
       " 0.5611436537399401,\n",
       " 1.000000000000001,\n",
       " 0.18386597060337173,\n",
       " 0.9999999999999998,\n",
       " 0.9999999999999998,\n",
       " 1.0000000000000002,\n",
       " 1.0000000000000002,\n",
       " 1.0000000000000002,\n",
       " 1.0000000000000004,\n",
       " 1.0000000000000002,\n",
       " 1.0000000000000002,\n",
       " 0.1834568505273249,\n",
       " 1.0000000000000004,\n",
       " 1.0000000000000002,\n",
       " 0.795354849077357,\n",
       " 1.0000000000000004,\n",
       " 0.19916135359311882,\n",
       " 0.6692280383968086,\n",
       " 0.9999999999999998,\n",
       " 0.37453175544248163,\n",
       " 0.2279430986819985,\n",
       " 0.30228427996136686,\n",
       " 0.16515055426718098,\n",
       " 1.0000000000000013,\n",
       " 1.0000000000000002,\n",
       " 0.9999999999999989,\n",
       " 0.9999999999999993,\n",
       " 1.0000000000000002,\n",
       " 1.0000000000000002,\n",
       " 0.4874565109641088,\n",
       " 1.0000000000000002,\n",
       " 0.9999999999999989,\n",
       " 1.0000000000000004,\n",
       " 0.4331295661913445,\n",
       " 1.0000000000000002,\n",
       " 1.0000000000000002,\n",
       " 1.0000000000000002,\n",
       " 0.13043917025149437,\n",
       " 1.0000000000000002,\n",
       " 0.9999999999999997,\n",
       " 0.1849585239901901,\n",
       " 0.40754719480602597,\n",
       " 0.3253706518676526,\n",
       " 0.3090540968328346,\n",
       " 0.6557828023040895,\n",
       " 0.9999999999999993,\n",
       " 1.0000000000000002,\n",
       " 1.0000000000000002,\n",
       " 0.4690579987566409,\n",
       " 0.7571326819313642,\n",
       " 1.0,\n",
       " 0.9999999999999997,\n",
       " 1.0000000000000002,\n",
       " 0.9999999999999991,\n",
       " 1.0000000000000002,\n",
       " 0.6227136379626923,\n",
       " 1.0000000000000002,\n",
       " 0.20733956885448887,\n",
       " 0.9999999999999998,\n",
       " 1.0000000000000002,\n",
       " 1.0000000000000004,\n",
       " 0.6271926001497787,\n",
       " 1.0000000000000002,\n",
       " 1.0000000000000002,\n",
       " 0.5813755193357006,\n",
       " 1.0000000000000002,\n",
       " 1.0,\n",
       " 0.6416556917024802,\n",
       " 1.0000000000000002,\n",
       " 1.0000000000000002,\n",
       " 1.0000000000000002,\n",
       " 1.0,\n",
       " 1.0000000000000002,\n",
       " 0.17768101320612267,\n",
       " 0.9999999999999999,\n",
       " 0.999999999999999,\n",
       " 1.0,\n",
       " 0.6956378428147082,\n",
       " 1.0000000000000002,\n",
       " 1.0000000000000002,\n",
       " 1.0000000000000002,\n",
       " 1.0000000000000002,\n",
       " 1.0000000000000002,\n",
       " 1.0000000000000002,\n",
       " 1.0000000000000002,\n",
       " 0.9999999999999997,\n",
       " 1.0000000000000002,\n",
       " 0.4370598558289971,\n",
       " 0.6020620726159659,\n",
       " 0.3493810910012993,\n",
       " 0.9999999999999994,\n",
       " 1.0000000000000007,\n",
       " 0.3518378573854038,\n",
       " 0.9999999999999979,\n",
       " 0.9999999999999992,\n",
       " 1.0000000000000002,\n",
       " 0.5862721039923,\n",
       " 0.661614614619033,\n",
       " 0.28389043834314437,\n",
       " 1.0000000000000002,\n",
       " 0.8590710296738113,\n",
       " 0.3101279666041165,\n",
       " 0.3861533518087221,\n",
       " 1.0000000000000002,\n",
       " 0.5458889699576894,\n",
       " 0.9999999999999993,\n",
       " 0.9999999999999996,\n",
       " 1.0000000000000002,\n",
       " 1.0000000000000002,\n",
       " 0.999999999999999,\n",
       " 1.0000000000000002,\n",
       " 1.0000000000000002,\n",
       " 1.0000000000000002,\n",
       " 1.0000000000000018,\n",
       " 1.0000000000000004,\n",
       " 1.0000000000000002,\n",
       " 0.3636486694359792,\n",
       " 1.0000000000000004,\n",
       " 0.9999999999999986,\n",
       " 0.1497822726487661,\n",
       " 0.4175091702292523,\n",
       " 0.9999999999999997,\n",
       " 0.9999999999999988,\n",
       " 0.27367483784058366,\n",
       " 1.0000000000000004,\n",
       " 0.4232829723510917,\n",
       " 1.0000000000000002,\n",
       " 1.0000000000000002,\n",
       " 1.0,\n",
       " 1.0000000000000004,\n",
       " 0.6504939385935586,\n",
       " 1.0000000000000007,\n",
       " 0.2716746178637027,\n",
       " 0.5176133860294021,\n",
       " 0.9999999999999998,\n",
       " 0.9999999999999994,\n",
       " 0.4220757737271226,\n",
       " 1.0,\n",
       " 1.0000000000000002,\n",
       " 1.0000000000000002,\n",
       " 1.0000000000000002]"
      ]
     },
     "execution_count": 6,
     "metadata": {},
     "output_type": "execute_result"
    }
   ],
   "source": [
    "similarity_scores"
   ]
  },
  {
   "cell_type": "code",
   "execution_count": 9,
   "metadata": {},
   "outputs": [
    {
     "data": {
      "text/plain": [
       "152"
      ]
     },
     "execution_count": 9,
     "metadata": {},
     "output_type": "execute_result"
    }
   ],
   "source": [
    "len(list(billdf['Raw Text']))"
   ]
  },
  {
   "cell_type": "code",
   "execution_count": 10,
   "metadata": {},
   "outputs": [
    {
     "data": {
      "text/plain": [
       "152"
      ]
     },
     "execution_count": 10,
     "metadata": {},
     "output_type": "execute_result"
    }
   ],
   "source": [
    "len(similarity_scores)"
   ]
  },
  {
   "cell_type": "code",
   "execution_count": 11,
   "metadata": {},
   "outputs": [
    {
     "data": {
      "text/plain": [
       "0.8137269188017527"
      ]
     },
     "execution_count": 11,
     "metadata": {},
     "output_type": "execute_result"
    }
   ],
   "source": [
    "import numpy as np\n",
    "np.mean(similarity_scores)"
   ]
  },
  {
   "cell_type": "code",
   "execution_count": 12,
   "metadata": {},
   "outputs": [
    {
     "data": {
      "image/png": "[encoded data removed]",
      "text/plain": [
       "<Figure size 640x480 with 1 Axes>"
      ]
     },
     "metadata": {},
     "output_type": "display_data"
    }
   ],
   "source": [
    "# Plotting the similarity scores\n",
    "x_labels = [f\"{i+1}\" for i in range(len(list(billdf['Raw Text'])))]\n",
    "plt.bar(x_labels, similarity_scores)\n",
    "plt.xlabel(\"Generated Summary\")\n",
    "plt.ylabel(\"Similarity Score\")\n",
    "plt.title(\"Cosine Similarity Scores\")\n",
    "plt.ylim(0, 1)  # Set the y-axis limit from 0 to 1\n",
    "plt.show()\n"
   ]
  },
  {
   "cell_type": "code",
   "execution_count": 13,
   "metadata": {},
   "outputs": [
    {
     "data": {
      "text/plain": [
       "Text(0.5, 1.0, 'Cosine Similarity Scores')"
      ]
     },
     "execution_count": 13,
     "metadata": {},
     "output_type": "execute_result"
    },
    {
     "data": {
      "image/png": "[encoded data removed]",
      "text/plain": [
       "<Figure size 640x480 with 1 Axes>"
      ]
     },
     "metadata": {},
     "output_type": "display_data"
    }
   ],
   "source": [
    "\n",
    "plt.hist(similarity_scores)\n",
    "plt.xticks([0.1,0.2,0.3,0.4, 0.5, 0.6, 0.7, 0.8, 0.9, 1])\n",
    "plt.xlabel(\"Similarity Score\")\n",
    "plt.ylabel(\"Frequency\")\n",
    "plt.title(\"Cosine Similarity Scores\")"
   ]
  }
 ],
 "metadata": {
  "kernelspec": {
   "display_name": "Python 3",
   "language": "python",
   "name": "python3"
  },
  "language_info": {
   "codemirror_mode": {
    "name": "ipython",
    "version": 3
   },
   "file_extension": ".py",
   "mimetype": "text/x-python",
   "name": "python",
   "nbconvert_exporter": "python",
   "pygments_lexer": "ipython3",
   "version": "3.11.1"
  },
  "orig_nbformat": 4
 },
 "nbformat": 4,
 "nbformat_minor": 2
}
