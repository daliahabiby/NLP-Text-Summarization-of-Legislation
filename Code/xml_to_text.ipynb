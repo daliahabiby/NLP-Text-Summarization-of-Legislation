{
 "cells": [
  {
   "cell_type": "code",
   "execution_count": 5,
   "metadata": {},
   "outputs": [
    {
     "name": "stdout",
     "output_type": "stream",
     "text": [
      "This Act may be cited as the \n",
      "The purpose of this Act is to utilize the current background checks process in the United States to ensure individuals prohibited from gun purchase or possession are not able to obtain firearms.\n",
      "Section 922 of title 18, United States Code, is amended by adding at the end the following:\n",
      "It shall be unlawful for any person who is not a licensed importer, licensed manufacturer, or licensed dealer to transfer a firearm to any other person who is not so licensed, unless a licensed importer, licensed manufacturer, or licensed dealer has first taken possession of the firearm for the purpose of complying with subsection (t).\n",
      "Upon taking possession of a firearm under subparagraph (A), a licensee shall comply with all requirements of this chapter as if the licensee were transferring the firearm from the inventory of the licensee to the unlicensed transferee.\n",
      "If a transfer of a firearm described in subparagraph (A) will not be completed for any reason after a licensee takes possession of the firearm (including because the transfer of the firearm to, or receipt of the firearm by, the transferee would violate this chapter), the return of the firearm to the transferor by the licensee shall not constitute the transfer of a firearm for purposes of this chapter.\n",
      "Paragraph (1) shall not apply to—\n",
      "a law enforcement agency or any law enforcement officer, armed private security professional, or member of the armed forces, to the extent the officer, professional, or member is acting within the course and scope of employment and official duties;\n",
      "a transfer or exchange (which, for purposes of this subsection, means an in-kind transfer of a firearm of the same type or value) that is a loan or bona fide gift between spouses, between domestic partners, between parents and their children, including step-parents and their step-children, between siblings, between aunts or uncles and their nieces or nephews, or between grandparents and their grandchildren, if the transferor has no reason to believe that the transferee will use or intends to use the firearm in a crime or is prohibited from possessing firearms under State or Federal law;\n",
      "a transfer to an executor, administrator, trustee, or personal representative of an estate or a trust that occurs by operation of law upon the death of another person;\n",
      "a temporary transfer that is necessary to prevent imminent death or great bodily harm, including harm to self, family, household members, or others, if the possession by the transferee lasts only as long as immediately necessary to prevent the imminent death or great bodily harm, including harm to self, and the harm of domestic violence, dating partner violence, sexual assault, stalking, and domestic abuse;\n",
      "a transfer that is approved by the Attorney General under \n",
      "a temporary transfer if the transferor has no reason to believe that the transferee will use or intends to use the firearm in a crime or is prohibited from possessing firearms under State or Federal law, and the transfer takes place and the transferee’s possession of the firearm is exclusively—\n",
      "at a shooting range or in a shooting gallery or other area designated for the purpose of target shooting;\n",
      "while reasonably necessary for the purposes of hunting, trapping, pest control on a farm or ranch, or fishing, if the transferor—\n",
      "has no reason to believe that the transferee intends to use the firearm in a place where it is illegal; and\n",
      "has reason to believe that the transferee will comply with all licensing and permit requirements for such hunting, trapping, pest control on a farm or ranch, or fishing; or\n",
      "while in the presence of the transferor.\n",
      "It shall be unlawful for a licensed importer, licensed manufacturer, or licensed dealer to transfer possession of, or title to, a firearm to another person who is not so licensed unless the importer, manufacturer, or dealer has provided such other person with a notice of the prohibition under paragraph (1), and such other person has certified that such other person has been provided with this notice on a form prescribed by the Attorney General. \n",
      "The Attorney General shall make available to any person licensed under this chapter both Spanish and English versions of the form required for the conduct of a background check under subsection (t) and this subsection, and the notice and form required under paragraph (3) of this subsection.\n",
      "Section 924(a)(5) of title 18, United States Code, is amended by striking \n",
      "Nothing in this Act, or any amendment made by this Act, shall be construed to—\n",
      "authorize the establishment, directly or indirectly, of a national firearms registry; or\n",
      "interfere with the authority of a State, under section 927 of title 18, United States Code, to enact a law on the same subject matter as this Act.\n",
      "The amendment made by subsections (a) and (b) shall take effect 180 days after the date of enactment of this Act.\n"
     ]
    }
   ],
   "source": [
    "import xml.etree.ElementTree as ET\n",
    "\n",
    "# Load the XML file\n",
    "tree = ET.parse(\"C:\\\\Users\\\\conno\\\\Documents\\\\Grad_School\\\\DATA_441\\\\Project\\\\xml_files\\\\BILLS-117hr8pcs.xml\")\n",
    "\n",
    "# Get the root element\n",
    "root = tree.getroot()\n",
    "\n",
    "# Find all <text> elements and extract their contents\n",
    "for text_elem in root.findall('.//text'):\n",
    "    text = text_elem.text\n",
    "    print(text)\n"
   ]
  }
 ],
 "metadata": {
  "kernelspec": {
   "display_name": "Python 3",
   "language": "python",
   "name": "python3"
  },
  "language_info": {
   "codemirror_mode": {
    "name": "ipython",
    "version": 3
   },
   "file_extension": ".py",
   "mimetype": "text/x-python",
   "name": "python",
   "nbconvert_exporter": "python",
   "pygments_lexer": "ipython3",
   "version": "3.10.2"
  },
  "orig_nbformat": 4,
  "vscode": {
   "interpreter": {
    "hash": "4e499d04318f03882d78f147e7dec12979e9ceaaf6981c2380bb50e749dcd9ae"
   }
  }
 },
 "nbformat": 4,
 "nbformat_minor": 2
}
