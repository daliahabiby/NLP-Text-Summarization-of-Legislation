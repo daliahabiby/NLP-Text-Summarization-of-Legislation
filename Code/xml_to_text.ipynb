{
 "cells": [
  {
   "cell_type": "code",
   "execution_count": null,
   "metadata": {},
   "outputs": [],
   "source": [
    "import glob\n",
    "\n",
    "# set the path to the folder containing the XML files\n",
    "folder_path = \"../xml_files/\"\n",
    "\n",
    "# use glob to create a list of all XML files in the folder\n",
    "xml_files = glob.glob(f\"{folder_path}/*.xml\")\n",
    "\n",
    "# print the list of XML files\n",
    "print(xml_files)\n"
   ]
  },
  {
   "cell_type": "code",
   "execution_count": null,
   "metadata": {},
   "outputs": [],
   "source": [
    "import xml.etree.ElementTree as ET\n",
    "\n",
    "# Load the XML file\n",
    "tree = ET.parse(\"..\\\\xml_files\\\\BILLS-117hr8pcs.xml\")\n",
    "\n",
    "# Get the root element\n",
    "root = tree.getroot()\n",
    "\n",
    "# Collect all unique root tags\n",
    "roots = set()\n",
    "for elem in root.iter():\n",
    "    roots.add(elem.tag)\n",
    "\n",
    "# Print the unique root tags\n",
    "print(\"Possible roots in the XML file:\")\n",
    "for root_tag in roots:\n",
    "    print(root_tag)\n"
   ]
  },
  {
   "cell_type": "code",
   "execution_count": null,
   "metadata": {},
   "outputs": [],
   "source": [
    "import os\n",
    "import pandas as pd\n",
    "\n",
    "# Define the directory containing the XML files\n",
    "dir_path = \"..\\\\xml_files\"\n",
    "\n",
    "# Create empty lists to hold the extracted bill numbers and raw text\n",
    "bill_numbers = []\n",
    "raw_text_list = []\n",
    "\n",
    "# Loop through all the XML files in the directory\n",
    "for file_name in os.listdir(dir_path):\n",
    "    if file_name.endswith(\".xml\"):\n",
    "        # Construct the full file path\n",
    "        file_path = os.path.join(dir_path, file_name)\n",
    "\n",
    "        # Extract the relevant portion of the file name\n",
    "        bill_number = file_name.split(\"-\")[1].split(\".\")[0]\n",
    "\n",
    "        # Add the bill number to the list\n",
    "        bill_numbers.append(bill_number)\n",
    "\n",
    "        # Extract the raw text\n",
    "        tree = ET.parse(file_path)\n",
    "        root = tree.getroot()\n",
    "        raw_text = \"\"\n",
    "        for text_elem in root.findall('.//text'):\n",
    "            if text_elem.text is not None:\n",
    "                raw_text += text_elem.text\n",
    "        \n",
    "        # Add the raw text to the list\n",
    "        raw_text_list.append(raw_text)\n",
    "\n",
    "# Create a DataFrame with the bill numbers and raw text as columns\n",
    "bill_text_df = pd.DataFrame({\"Bill Number\": bill_numbers, \"Raw Text\": raw_text_list})\n"
   ]
  }
 ],
 "metadata": {
  "kernelspec": {
   "display_name": "Python 3",
   "language": "python",
   "name": "python3"
  },
  "language_info": {
   "codemirror_mode": {
    "name": "ipython",
    "version": 3
   },
   "file_extension": ".py",
   "mimetype": "text/x-python",
   "name": "python",
   "nbconvert_exporter": "python",
   "pygments_lexer": "ipython3",
   "version": "3.10.2"
  },
  "orig_nbformat": 4,
  "vscode": {
   "interpreter": {
    "hash": "4e499d04318f03882d78f147e7dec12979e9ceaaf6981c2380bb50e749dcd9ae"
   }
  }
 },
 "nbformat": 4,
 "nbformat_minor": 2
}
